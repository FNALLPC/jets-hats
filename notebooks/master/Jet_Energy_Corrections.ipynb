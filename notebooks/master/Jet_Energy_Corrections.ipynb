{
 "cells": [
  {
   "cell_type": "markdown",
   "metadata": {
    "slideshow": {
     "slide_type": "-"
    }
   },
   "source": [
    "# Jet Energy Corrections"
   ]
  },
  {
   "cell_type": "markdown",
   "metadata": {},
   "source": [
    "## Loading packages and input files"
   ]
  },
  {
   "cell_type": "code",
   "execution_count": 1,
   "metadata": {},
   "outputs": [],
   "source": [
    "from coffea.nanoevents import NanoEventsFactory, NanoAODSchema\n",
    "import hist\n",
    "import awkward as ak\n",
    "import numpy as np\n",
    "import matplotlib.pyplot as plt\n",
    "import mplhep as hep\n",
    "import correctionlib\n",
    "import copy\n",
    "\n",
    "plt.style.use(hep.style.CMS)"
   ]
  },
  {
   "cell_type": "code",
   "execution_count": 2,
   "metadata": {},
   "outputs": [],
   "source": [
    "fname = \"root://cmseos.fnal.gov//store/user/cmsdas/2023/short_exercises/jets/RunIISummer20UL18NanoAODv9/TTJets_TuneCP5_13TeV-amcatnloFXFX-pythia8/NANOAODSIM/106X_upgrade2018_realistic_v16_L1v1-v1/2520000/130AF209-596A-BA46-BA9E-D8847511BB0F.root\"\n",
    "events = NanoEventsFactory.from_root( fname, schemaclass=NanoAODSchema.v6).events()"
   ]
  },
  {
   "cell_type": "markdown",
   "metadata": {},
   "source": [
    "## Exercise 1\n",
    "\n",
    "First, for simplicity, let's apply a simple selection in the jet eta of the jets we are going to study:"
   ]
  },
  {
   "cell_type": "code",
   "execution_count": 3,
   "metadata": {},
   "outputs": [],
   "source": [
    "events.Jet = events.Jet[ (np.abs(events.Jet.eta)<2.5) ]"
   ]
  },
  {
   "cell_type": "markdown",
   "metadata": {},
   "source": [
    "Since the jets in our input files are corrected, we will uncorrect them first. Then, again for simplicity, we will include a jet pt selection:"
   ]
  },
  {
   "cell_type": "code",
   "execution_count": 4,
   "metadata": {},
   "outputs": [],
   "source": [
    "uncorr_jets = copy.deepcopy(events.Jet)\n",
    "uncorr_jets['pt_raw'] = (1 - uncorr_jets['rawFactor']) * uncorr_jets['pt']\n",
    "uncorr_jets['mass_raw'] = (1 - uncorr_jets['rawFactor']) * uncorr_jets['mass']\n",
    "\n",
    "uncorr_jets = uncorr_jets[(uncorr_jets.pt_raw > 30)]\n",
    "events.GenJet = events.GenJet[(events.GenJet.pt > 30)]"
   ]
  },
  {
   "cell_type": "markdown",
   "metadata": {},
   "source": [
    "Let's make the histograms to compare and the plots:"
   ]
  },
  {
   "cell_type": "code",
   "execution_count": 5,
   "metadata": {},
   "outputs": [],
   "source": [
    "hists_uncorr = (\n",
    "    hist.Hist.new\n",
    "    .StrCat([\"gen\", \"reco\"], name=\"jet_type\")\n",
    "    .Reg(100, 0, 1000, name=\"pt\", label='jet pt')\n",
    "    .Reg(40, -5, 5, name=\"eta\", label='jet eta')\n",
    "    .Weight()\n",
    "    .fill(\n",
    "        jet_type='gen',\n",
    "        pt=ak.flatten(events.GenJet.pt),\n",
    "        eta=ak.flatten(events.GenJet.eta)\n",
    "    )\n",
    "    .fill(\n",
    "        jet_type='reco',\n",
    "        pt=ak.flatten(uncorr_jets.pt_raw),\n",
    "        eta=ak.flatten(uncorr_jets.eta)\n",
    "    )\n",
    ")"
   ]
  },
  {
   "cell_type": "code",
   "execution_count": 6,
   "metadata": {},
   "outputs": [
    {
     "data": {
      "image/png": "[encoded data removed]",
      "text/plain": [
       "<Figure size 432x288 with 2 Axes>"
      ]
     },
     "metadata": {
      "needs_background": "light"
     },
     "output_type": "display_data"
    }
   ],
   "source": [
    "gen = hists_uncorr[\"gen\", :, ::sum]\n",
    "unc_reco = hists_uncorr[\"reco\", :, ::sum]\n",
    "\n",
    "fig = plt.gcf()\n",
    "grid = fig.add_gridspec(2, 1, hspace=0, height_ratios=[3, 1])\n",
    "\n",
    "main_ax = fig.add_subplot(grid[0])\n",
    "subplot_ax = fig.add_subplot(grid[1], sharex=main_ax)\n",
    "\n",
    "main, subplot = gen.plot_ratio(unc_reco, rp_num_label=\"gen\", rp_denom_label=\"uncorr reco\", ax_dict={'main_ax' : main_ax, 'ratio_ax': subplot_ax} )\n",
    "main_ax.set_yscale('log')"
   ]
  },
  {
   "cell_type": "markdown",
   "metadata": {
    "slideshow": {
     "slide_type": "slide"
    }
   },
   "source": []
  },
  {
   "cell_type": "markdown",
   "metadata": {
    "slideshow": {
     "slide_type": "slide"
    }
   },
   "source": [
    "## Exercise 2: Before and after JECs"
   ]
  },
  {
   "cell_type": "markdown",
   "metadata": {},
   "source": [
    "Applying JECs to uncorrected jets:"
   ]
  },
  {
   "cell_type": "code",
   "execution_count": 7,
   "metadata": {},
   "outputs": [],
   "source": [
    "jerc_file = '/cvmfs/cms.cern.ch/rsync/cms-nanoAOD/jsonpog-integration/POG/JME/2018_UL/jet_jerc.json.gz'\n",
    "jerc_corr = correctionlib.CorrectionSet.from_file(jerc_file)\n",
    "\n",
    "uncorr_jets = events.Jet\n",
    "uncorr_jets['pt_raw'] = (1 - uncorr_jets['rawFactor']) * uncorr_jets['pt']\n",
    "uncorr_jets['mass_raw'] = (1 - uncorr_jets['rawFactor']) * uncorr_jets['mass']\n",
    "uncorr_jets['rho'] = ak.broadcast_arrays(events.fixedGridRhoFastjetAll, uncorr_jets.pt)[0]\n",
    "j, nj = ak.flatten(uncorr_jets), ak.num(uncorr_jets)\n",
    "\n",
    "corr = jerc_corr.compound[\"Summer19UL18_V5_MC_L1L2L3Res_AK4PFchs\"]\n",
    "flat_jec = corr.evaluate( j['area'], j['eta'], j['pt_raw'], j['rho'] )\n",
    "jec = ak.unflatten( flat_jec, nj )\n",
    "\n",
    "corr_jets = copy.deepcopy(uncorr_jets)\n",
    "corr_jets['jet_energy_correction'] = jec\n",
    "corr_jets['pt'] = corr_jets.pt_raw * jec\n",
    "corr_jets['mass'] = corr_jets.mass_raw * jec\n",
    "\n",
    "corr_jets = corr_jets[ (corr_jets.pt > 30) ]"
   ]
  },
  {
   "cell_type": "markdown",
   "metadata": {},
   "source": [
    "Let's make the histograms to compare genjets with corrected jets:"
   ]
  },
  {
   "cell_type": "code",
   "execution_count": 8,
   "metadata": {},
   "outputs": [],
   "source": [
    "hists_corr = (\n",
    "    hist.Hist.new\n",
    "    .StrCat([\"gen\", \"reco\"], name=\"jet_type\")\n",
    "    .Reg(100, 0, 1000, name=\"pt\", label='jet pt')\n",
    "    .Reg(40, -5, 5, name=\"eta\", label='jet eta')\n",
    "    .Weight()\n",
    "    .fill(\n",
    "        jet_type='gen',\n",
    "        pt=ak.flatten(events.GenJet.pt),\n",
    "        eta=ak.flatten(events.GenJet.eta)\n",
    "    )\n",
    "    .fill(\n",
    "        jet_type='reco',\n",
    "        pt=ak.flatten(corr_jets.pt),\n",
    "        eta=ak.flatten(corr_jets.eta)\n",
    "    )\n",
    ")"
   ]
  },
  {
   "cell_type": "code",
   "execution_count": 9,
   "metadata": {},
   "outputs": [
    {
     "data": {
      "image/png": "[encoded data removed]",
      "text/plain": [
       "<Figure size 432x288 with 2 Axes>"
      ]
     },
     "metadata": {
      "needs_background": "light"
     },
     "output_type": "display_data"
    }
   ],
   "source": [
    "gen = hists_corr[\"gen\",:,:].project(\"pt\")\n",
    "reco = hists_corr[\"reco\",:,:].project(\"pt\")\n",
    "\n",
    "fig = plt.gcf()\n",
    "grid = fig.add_gridspec(2, 1, hspace=0, height_ratios=[3, 1])\n",
    "\n",
    "main_ax = fig.add_subplot(grid[0])\n",
    "subplot_ax = fig.add_subplot(grid[1], sharex=main_ax)\n",
    "\n",
    "main, subplot = gen.plot_ratio(reco, rp_num_label=\"gen\", rp_denom_label=\"reco\", ax_dict={'main_ax' : main_ax, 'ratio_ax': subplot_ax} )\n",
    "main_ax.set_yscale('log')"
   ]
  },
  {
   "cell_type": "code",
   "execution_count": 10,
   "metadata": {},
   "outputs": [
    {
     "data": {
      "image/png": "[encoded data removed]",
      "text/plain": [
       "<Figure size 432x288 with 2 Axes>"
      ]
     },
     "metadata": {
      "needs_background": "light"
     },
     "output_type": "display_data"
    }
   ],
   "source": [
    "fig = plt.gcf()\n",
    "grid = fig.add_gridspec(2, 1, hspace=0, height_ratios=[3, 1])\n",
    "\n",
    "main_ax = fig.add_subplot(grid[0])\n",
    "subplot_ax = fig.add_subplot(grid[1], sharex=main_ax)\n",
    "\n",
    "main, subplot = unc_reco.plot_ratio(reco, rp_num_label=\"unc reco\", rp_denom_label=\"reco\", ax_dict={'main_ax' : main_ax, 'ratio_ax': subplot_ax} )\n",
    "main_ax.set_yscale('log')\n"
   ]
  },
  {
   "cell_type": "markdown",
   "metadata": {
    "slideshow": {
     "slide_type": "slide"
    }
   },
   "source": [
    "## Exercise 3: JEC Uncertainties\n",
    "\n",
    "Let's apply the JEC uncertainties (one sigma up and down) to the uncorrected jets:"
   ]
  },
  {
   "cell_type": "code",
   "execution_count": 11,
   "metadata": {},
   "outputs": [],
   "source": [
    "uncorr_jets = events.Jet\n",
    "uncorr_jets['pt_raw'] = (1 - uncorr_jets['rawFactor']) * uncorr_jets['pt']\n",
    "uncorr_jets['mass_raw'] = (1 - uncorr_jets['rawFactor']) * uncorr_jets['mass']\n",
    "uncorr_jets['rho'] = ak.broadcast_arrays(events.fixedGridRhoFastjetAll, uncorr_jets.pt)[0]\n",
    "j, nj = ak.flatten(uncorr_jets), ak.num(uncorr_jets)\n",
    "\n",
    "### jet corrections\n",
    "corr = jerc_corr.compound[\"Summer19UL18_V5_MC_L1L2L3Res_AK4PFchs\"]\n",
    "flat_jec = corr.evaluate( j['area'], j['eta'], j['pt_raw'], j['rho'] )\n",
    "jec = ak.unflatten( flat_jec, nj )\n",
    "\n",
    "### jet corrections uncertainties\n",
    "corr = jerc_corr[\"Summer19UL18_V5_MC_Total_AK4PFchs\"]\n",
    "flat_jec_unc = corr.evaluate( j['eta'], j['pt_raw'] )\n",
    "flat_jec_unc_up = np.ones(len(j)) + flat_jec_unc\n",
    "flat_jec_unc_down = np.ones(len(j)) - flat_jec_unc\n",
    "\n",
    "jec_unc_up = ak.unflatten( flat_jec_unc_up, nj )\n",
    "jec_unc_down = ak.unflatten( flat_jec_unc_down, nj )\n",
    "\n",
    "corr_jets = copy.deepcopy(uncorr_jets)\n",
    "corr_jets['jet_energy_correction'] = jec\n",
    "corr_jets['pt'] = corr_jets.pt_raw * jec\n",
    "corr_jets['mass'] = corr_jets.mass_raw * jec\n",
    "\n",
    "corr_jets['pt_unc_up'] = corr_jets.pt_raw * jec_unc_up\n",
    "corr_jets['pt_unc_down'] = corr_jets.pt_raw * jec_unc_down\n",
    "\n",
    "corr_jets = corr_jets[ (corr_jets.pt > 30) ]"
   ]
  },
  {
   "cell_type": "markdown",
   "metadata": {},
   "source": [
    "Let's make the plots to compare:"
   ]
  },
  {
   "cell_type": "code",
   "execution_count": 12,
   "metadata": {},
   "outputs": [],
   "source": [
    "hists_unc = (\n",
    "    hist.Hist.new\n",
    "    .StrCat([\"nominal\", \"up\", 'down'], name=\"unc\")\n",
    "    .Reg(100, 0, 1000, name=\"pt\", label='jet pt')\n",
    "    .Weight()\n",
    "    .fill(\n",
    "        unc='nominal',\n",
    "        pt=ak.flatten(corr_jets.pt),\n",
    "    )\n",
    "    .fill(\n",
    "        unc='up',\n",
    "        pt=ak.flatten(corr_jets.pt_unc_up),\n",
    "    )\n",
    "    .fill(\n",
    "        unc='down',\n",
    "        pt=ak.flatten(corr_jets.pt_unc_down),\n",
    "    )\n",
    ")"
   ]
  },
  {
   "cell_type": "code",
   "execution_count": 13,
   "metadata": {},
   "outputs": [
    {
     "data": {
      "image/png": "[encoded data removed]",
      "text/plain": [
       "<Figure size 432x288 with 1 Axes>"
      ]
     },
     "metadata": {
      "needs_background": "light"
     },
     "output_type": "display_data"
    }
   ],
   "source": [
    "fig, ax = plt.subplots()\n",
    "hists_unc.plot1d(ax=ax)\n",
    "ax.legend(title=\"Uncertatinty\")\n",
    "ax.set_yscale(\"log\")"
   ]
  },
  {
   "cell_type": "markdown",
   "metadata": {},
   "source": [
    "## Your turn\n",
    "\n",
    "You can check different the JEC uncertainties variations for other jet variables"
   ]
  },
  {
   "cell_type": "code",
   "execution_count": null,
   "metadata": {},
   "outputs": [],
   "source": []
  }
 ],
 "metadata": {
  "kernelspec": {
   "display_name": "Python 3 (ipykernel)",
   "language": "python",
   "name": "python3"
  },
  "language_info": {
   "codemirror_mode": {
    "name": "ipython",
    "version": 3
   },
   "file_extension": ".py",
   "mimetype": "text/x-python",
   "name": "python",
   "nbconvert_exporter": "python",
   "pygments_lexer": "ipython3",
   "version": "3.9.12"
  }
 },
 "nbformat": 4,
 "nbformat_minor": 2
}
