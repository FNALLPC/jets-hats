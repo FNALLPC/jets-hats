{
 "cells": [
  {
   "cell_type": "markdown",
   "metadata": {},
   "source": [
    "# Jet Substructure"
   ]
  },
  {
   "cell_type": "markdown",
   "metadata": {},
   "source": [
    "Because boosted jets represent the hadronic products of a heavy particle produced with high momentum, some tools have been developed to study the internal structure of these jets. This topic is usually called Jet Substructure. \n",
    "\n",
    "Jet substructure algorithms can be divided into three main tools:\n",
    " * **grooming algorithms** attempt to reduce the impact of *soft* contributions to clustering sequence by adding some other criteria. Examples of these algorimths are softdrop, trimming, pruning.\n",
    " * **subtructure variables** are observables that try to quantify how many cores or prongs can be identify within the structure of the boosted jet. Examples of these variables are n-subjetiness or energy correlation functions.\n",
    " * **taggers** are more sofisticated algorithms that attempt to identify the origin of the boosted jet. Currently taggers are based on sofisticated machine-learning techniques which try to use as much information as possible in order to efficiency identify boosted W/Z/Higgs/top jets. Examples of these taggers in CMS are deepAK8/ParticleNet or deepDoubleB.\n",
    " \n",
    "For further reading, several measurements have been performed about jet substructure:\n",
    " * [Studies of jet mass in dijet and W/Z+jet events](http://arxiv.org/abs/1303.4811) (CMS).\n",
    " * [Jet mass and substructure of inclusive jets in sqrt(s) = 7 TeV pp collisions with the ATLAS experiment](http://arxiv.org/abs/1203.4606) (ATLAS).\n",
    " * [Theory slides](http://www.hri.res.in/~sangam/sangam18/talks/Marzani-2.pdf) \n",
    " * [More theory slides]( http://indico.hep.manchester.ac.uk/getFile.py/access?contribId=14&resId=0&materialId=slides&confId=4413)\n",
    " * [Talk from Phil Harris](https://web.pa.msu.edu/seminars/hep_seminars/abstracts/2018/Harris-HEPSeminar-Slides-4172018.pdf) on searching for boosted $W$ bosons.\n",
    " \n",
    " In this part of the tutorial, we will compare different subtructure algorithms as well as some usually subtructure variables."
   ]
  },
  {
   "cell_type": "markdown",
   "metadata": {},
   "source": [
    "The code we will use `$CMSSW_BASE/src/Analysis/JMEDAS/scripts/jmedas_make_histograms.py` is a python-based script accessing miniAOD information. Additionally, the code also fills different histograms that we will compare in the next steps of the tutorial. \n",
    "\n",
    "The content of the script can be seen [here](https://github.com/cms-jet/JMEDAS/blob/DASSep2020/scripts/jmedas_make_histograms.py). The code will take several minutes to run, so you can launch the script first, and read the script while the code is running. You have probably already looked into this script in the previous exercises. Now execute the following commands in your cmslpc ssh session:"
   ]
  },
  {
   "cell_type": "code",
   "execution_count": null,
   "metadata": {},
   "outputs": [],
   "source": [
    "python $CMSSW_BASE/src/Analysis/JMEDAS/scripts/jmedas_make_histograms.py \\\n",
    "    --files=$CMSSW_BASE/src/Analysis/JMEDAS/data/MiniAODs/RunIIFall17MiniAODv2/rsgluon_ttbar_3000GeV.txt \\\n",
    "    --outname=$CMSSW_BASE/src/Analysis/JMEDAS/notebooks/files/rsgluon_ttbar_3000GeV.root \\\n",
    "    --maxevents=2000 \\\n",
    "    --maxFiles 1 \\\n",
    "    --maxjets=6\n",
    "    #--correctJets Fall17_17Nov2017_V32_MC\n",
    "python $CMSSW_BASE/src/Analysis/JMEDAS/scripts/jmedas_make_histograms.py \\\n",
    "    --files=$CMSSW_BASE/src/Analysis/JMEDAS/data/MiniAODs/RunIIFall17MiniAODv2/ttjets.txt \\\n",
    "    --outname=$CMSSW_BASE/src/Analysis/JMEDAS/notebooks/files/ttjets.root \\\n",
    "    --maxevents=2000 \\\n",
    "    --maxjets=6 \\\n",
    "    --maxFiles 5\n",
    "python $CMSSW_BASE/src/Analysis/JMEDAS/scripts/jmedas_make_histograms.py \\\n",
    "    --files=$CMSSW_BASE/src/Analysis/JMEDAS/data/MiniAODs/RunIIFall17MiniAODv2/WJetsToQQ_HT600to800.txt \\\n",
    "    --outname=$CMSSW_BASE/src/Analysis/JMEDAS/notebooks/files/WJetsToQQ_HT600to800.root \\\n",
    "    --maxevents=2000 \\\n",
    "    --maxjets=4 \\\n",
    "    --maxFiles 2 \\\n",
    "    --matchPdgIdAK8 24 0.8    \n",
    "python $CMSSW_BASE/src/Analysis/JMEDAS/scripts/jmedas_make_histograms.py \\\n",
    "    --files=$CMSSW_BASE/src/Analysis/JMEDAS/data/MiniAODs/RunIIFall17MiniAODv2/QCD_Pt_470to600.txt \\\n",
    "    --outname=$CMSSW_BASE/src/Analysis/JMEDAS/notebooks/files/QCD_Pt_470to600.root \\\n",
    "    --maxevents=2000 \\\n",
    "    --maxjets=4 \\\n",
    "    --maxFiles 2\n"
   ]
  },
  {
   "cell_type": "markdown",
   "metadata": {},
   "source": [
    "## Grooming and PU removal algorithms\n",
    "\n",
    "Now, let's compare the jet masses for ungroomed, pruned, soft drop (SD), PUPPI, and SD+PUPPI. Execute the below script with the file 'jet_substructure_part1.py' in your working directory section4 and open the produced plot."
   ]
  },
  {
   "cell_type": "code",
   "execution_count": null,
   "metadata": {},
   "outputs": [],
   "source": [
    "import ROOT\n",
    "\n",
    "ROOT.gStyle.SetOptStat(0)\n",
    "ROOT.gStyle.SetOptTitle(0)\n",
    "f = ROOT.TFile(\"$CMSSW_BASE/src/Analysis/JMEDAS/notebooks/files/rsgluon_ttbar_3000GeV.root\")\n",
    "\n",
    "h_mAK8   = f.Get(\"h_mAK8\")\n",
    "h_msoftdropAK8 = f.Get(\"h_msoftdropAK8\")\n",
    "h_mprunedAK8   = f.Get(\"h_mprunedAK8\")\n",
    "h_mpuppiAK8 = f.Get(\"h_mpuppiAK8\")\n",
    "h_mSDpuppiAK8 = f.Get(\"h_mSDpuppiAK8\")\n",
    "\n",
    "h_mAK8.SetLineColor(ROOT.kBlack)\n",
    "h_mAK8.SetLineWidth(1)\n",
    "h_msoftdropAK8.SetLineColor(ROOT.kRed-4)\n",
    "h_msoftdropAK8.SetLineStyle(3)\n",
    "h_msoftdropAK8.SetLineWidth(1)\n",
    "h_mprunedAK8.SetLineColor(ROOT.kMagenta-4) \n",
    "h_mprunedAK8.SetLineStyle(4) \n",
    "h_mpuppiAK8.SetLineColor(ROOT.kGreen)\n",
    "h_mpuppiAK8.SetLineStyle(3)\n",
    "h_mpuppiAK8.SetLineWidth(1)\n",
    "h_mSDpuppiAK8.SetLineColor(ROOT.kAzure)\n",
    "h_mSDpuppiAK8.SetLineStyle(2)\n",
    "h_mSDpuppiAK8.SetLineWidth(3)\n",
    "\n",
    "legend = ROOT.TLegend(0.6, 0.6, 0.88, 0.88)\n",
    "legend.SetFillColor(0)\n",
    "legend.SetBorderSize(0)\n",
    "legend.AddEntry(h_mAK8, \"Ungroomed\", 'l')\n",
    "legend.AddEntry(h_msoftdropAK8, \"Soft Drop\", 'l')\n",
    "legend.AddEntry(h_mprunedAK8, \"Pruned\", 'l')\n",
    "legend.AddEntry(h_mpuppiAK8, \"PUPPI\", 'l')\n",
    "legend.AddEntry(h_mSDpuppiAK8, \"PUPPI+SD\", 'l')\n",
    "\n",
    "c_mass = ROOT.TCanvas('c_mass', 'c_mass', 800, 600)\n",
    "#h_mprunedAK8.SetMaximum(500)\n",
    "h_mprunedAK8.GetXaxis().SetRangeUser(0., 400.)\n",
    "h_mprunedAK8.DrawNormalized()\n",
    "#h_mprunedAK8.GetXaxis().SetRangeUser(0, 400)\n",
    "#h_mprunedAK8.GetYaxis().SetRangeUser(0, 500)\n",
    "h_msoftdropAK8.DrawNormalized(\"same\") \n",
    "h_mAK8.DrawNormalized(\"same\") \n",
    "h_mpuppiAK8.DrawNormalized(\"same\")\n",
    "h_mSDpuppiAK8.DrawNormalized(\"same\")\n",
    "h_mprunedAK8.DrawNormalized(\"axis same\")\n",
    "#h_mprunedAK8.SetMaximum(h_msoftdropAK8.GetMaximum()*1.2)\n",
    "\n",
    "legend.Draw()\n",
    "c_mass.Draw()\n"
   ]
  },
  {
   "cell_type": "markdown",
   "metadata": {},
   "source": [
    "<details>\n",
    "<summary>\n",
    "    <font color='blue'>The histogram should look roughly like this (but with added normalization):</font>\n",
    "</summary>\n",
    "<img src=\"../files/ex5_rsg_jetmass.png\" width=400px/>\n",
    "</details>\n",
    "Note that the histogram has two peaks. What do these correspond to? How do the algorithms affect the relative size of the two populations?"
   ]
  },
  {
   "cell_type": "markdown",
   "metadata": {},
   "source": [
    "# Substructure Variables\n",
    "\n",
    "Now, let's compare the different subtructure variables between two different samples. Using the histograms that you created in the previous steps, the next script contains just a function to create comparison plots."
   ]
  },
  {
   "cell_type": "code",
   "execution_count": null,
   "metadata": {},
   "outputs": [],
   "source": [
    "def compareHistogram(variable, processes=[\"tt\", \"rsg\", \"wqq\", \"qcd\"]):\n",
    "    hist_files = {\n",
    "        \"tt\": ROOT.TFile(\"$CMSSW_BASE/src/Analysis/JMEDAS/notebooks/files/ttjets.root\"), \n",
    "        \"rsg\": ROOT.TFile(\"$CMSSW_BASE/src/Analysis/JMEDAS/notebooks/files/rsgluon_ttbar_3000GeV.root\"), \n",
    "        \"wqq\": ROOT.TFile(\"$CMSSW_BASE/src/Analysis/JMEDAS/notebooks/files/WJetsToQQ_HT600to800.root\"), \n",
    "        \"qcd\": ROOT.TFile(\"$CMSSW_BASE/src/Analysis/JMEDAS/notebooks/files/QCD_Pt_470to600.root\")\n",
    "    }\n",
    "    hists = {}\n",
    "    for iprocess, process in enumerate(processes):\n",
    "        #print(process)\n",
    "        hists[process] = hist_files[process].Get(\"h_{}\".format(variable))\n",
    "        if not hists[process]:\n",
    "            print \"ERROR : didn't find histogram {} in file {}\".format(\"h_{}\".format(variable), hist_files[process].GetPath())\n",
    "        hists[process].SetDirectory(0)\n",
    "        hists[process].SetLineColor(iprocess+1)\n",
    "        hists[process].Rebin(2)\n",
    "        if hists[process].Integral() > 0:\n",
    "            hists[process].Scale(1. / hists[process].Integral())\n",
    "    \n",
    "    # Dummy histogram for drawing axes on TCanvas\n",
    "    #hframe = ROOT.TH1F(\"hframe\", \"hframe\", hists[\"tt\"].GetNbinsX(), hists[\"tt\"].GetXaxis().GetXmin(), hists[\"tt\"].GetXaxis().GetXmax())\n",
    "    #hframe.SetDirectory(0)\n",
    "    #hframe.GetXaxis().SetTitle(variable)\n",
    "    #hframe.SetMinimum(0.)\n",
    "    #hframe.SetMaximum(1.2 * max([hists[process].GetMaximum() for process in [\"tt\", \"rsg\", \"wqq\"]]))\n",
    "\n",
    "    if variable == \"ak8_N2_beta1\":\n",
    "        hists[processes[0]].GetXaxis().SetRangeUser(0., 0.5)\n",
    "    elif variable == \"logrhoRatioAK8\":\n",
    "        for process in processes:\n",
    "            hists[process].Rebin(5)\n",
    "\n",
    "    hists[processes[0]].SetMaximum(1.2 * max([hists[process].GetMaximum() for process in processes]))\n",
    "\n",
    "    legend = ROOT.TLegend(0.15, 0.65, 0.4, 0.85)\n",
    "    legend.SetFillColor(0)\n",
    "    legend.SetFillStyle(0)\n",
    "    legend.SetBorderSize(0)\n",
    "    \n",
    "    legend_entries = {\n",
    "        \"tt\": \"t#bar{t}\", \n",
    "        \"rsg\": \"RS KK gluon\",\n",
    "        \"wqq\": \"W(qq)\", \n",
    "        \"qcd\": \"QCD\"\n",
    "    }\n",
    "    \n",
    "    for process in processes:\n",
    "        legend.AddEntry(hists[process], legend_entries[process], \"l\")\n",
    "    \n",
    "    canvas = ROOT.TCanvas(variable, variable, 700, 500) \n",
    "\n",
    "    #hframe.Draw()\n",
    "    for iprocess, process in enumerate(processes):\n",
    "        if iprocess == 0:\n",
    "            draw_opts = \"hist\"\n",
    "        else:\n",
    "            draw_opts = \"hist same\"\n",
    "        hists[process].Draw(draw_opts)\n",
    "    \n",
    "    legend.Draw()\n",
    "    canvas.Draw()\n",
    "    return canvas, legend, hists\n"
   ]
  },
  {
   "cell_type": "markdown",
   "metadata": {},
   "source": [
    "Let's start with n-subjetiness ratios. The variable $\\tau_N$ gives a sense of how many N prongs or cores can be find inside the jet. It is known that the n-subjetiness variables itself ($\\tau_{N}$) do not provide good discrimination power, but its ratios do. Then, a $\\tau_{MN} = \\dfrac{\\tau_M}{\\tau_N}$ basically tests if the jet is more M-prong compared to N-prong. For instance, we expect 2 prongs for boosted jets originated from hadronic Ws, while we expect 1 prongs for high-pt jets from QCD multijet processes.\n",
    "\n",
    "Let's compare one of the most common nsubjetiness ratio $\\tau_{21}$. Add the following function call to the end of compare_histograms.py and run the script with python. Open the produced plot with evince."
   ]
  },
  {
   "cell_type": "code",
   "execution_count": null,
   "metadata": {
    "scrolled": false
   },
   "outputs": [],
   "source": [
    "compareHistogram('tau21AK8', processes=[\"rsg\", \"wqq\", \"qcd\"])"
   ]
  },
  {
   "cell_type": "markdown",
   "metadata": {},
   "source": [
    "What can you say about the two histograms? Is $\\tau_{21}$ telling you something about the nature of the boosted jets selected?\n",
    "\n",
    "Let's compare now $\\tau_{32}$. Modify the function call in the script and produce plots with the two following configurations:"
   ]
  },
  {
   "cell_type": "code",
   "execution_count": null,
   "metadata": {},
   "outputs": [],
   "source": [
    "compareHistogram('tau32AK8', processes=[\"rsg\", \"qcd\"])"
   ]
  },
  {
   "cell_type": "code",
   "execution_count": null,
   "metadata": {},
   "outputs": [],
   "source": [
    "compareHistogram('tau32AK8_pt450', processes=[\"rsg\", \"qcd\"])"
   ]
  },
  {
   "cell_type": "markdown",
   "metadata": {},
   "source": [
    "What can you say about the two histograms? Is $\\tau_{32}$ telling you something about the nature of the boosted jets selected?\n",
    "\n",
    "Another subtructure variable commonly used is the energy correlation function $N2$. Similarly than $\\tau_{21}$, $N2$ tests if the boosted jet is compatible with a 2-prong jet hypothesis. Let's compare now $N2$ and $N3$. Follow the above process with these:"
   ]
  },
  {
   "cell_type": "code",
   "execution_count": null,
   "metadata": {},
   "outputs": [],
   "source": [
    "compareHistogram( 'ak8_N2_beta1', processes=[\"rsg\", \"wqq\", \"qcd\"] )"
   ]
  },
  {
   "cell_type": "code",
   "execution_count": null,
   "metadata": {},
   "outputs": [],
   "source": [
    "compareHistogram( 'ak8_N3_beta1_pt450', processes=[\"rsg\", \"qcd\"] )"
   ]
  },
  {
   "cell_type": "markdown",
   "metadata": {},
   "source": [
    "What can you say about the two histograms? Are $N2$ and $N3$ telling you something about the nature of the boosted jets selected?"
   ]
  },
  {
   "cell_type": "markdown",
   "metadata": {},
   "source": [
    "# $\\rho$ parameter\n",
    "A useful variable for massive, fat jets is the QCD scaling parameter $\\rho$, defined as:\n",
    "\n",
    "$\\rho=\\log(m^2/(p_{\\mathrm{T}}R)^2)$.\n",
    "\n",
    "(Sometimes $\\rho$ is defined without the log). One useful feature of this variable is that QCD jet mass grows with $p_{\\mathrm{T}}$, i.e. the two quantities are strongly correlated, while $\\rho$ is much less correlated with $p_{\\mathrm{T}}$.\n",
    "Repeat the above plotting process with these two function calls and open the plots:",
    "\n"
   ]
  },
  {
   "cell_type": "code",
   "execution_count": null,
   "metadata": {},
   "outputs": [],
   "source": [
    "compareHistogram( 'logrhoRatioAK8' )\n",
    "compareHistogram( 'rhoRatioAK8' )"
   ]
  },
  {
   "cell_type": "markdown",
   "metadata": {},
   "source": [
    "In which cases do you think the $\\rho$ variable can be used? \n",
    "\n",
    "<details>\n",
    "<summary>\n",
    "    <font color='blue'>Click to see more.</font>\n",
    "</summary>\n",
    "The following two plots show what QCD events look like in different $p_{T}$ ranges. It's clear that the mass depends very strongly on $p_{T}$, while the $\\rho$ shape is fairly constant vs. $p_{T}$ (ignoring $\\rho<7$ or so, which is the non-perturbative region). Having a stable shape is useful when studying QCD across a wide $p_{T}$ range.\n",
    "<img src=\"../files/qcdpt_mass.png\" width=600px/>\n",
    "<img src=\"../files/qcdpt_rho.png\" width=600px/>\n",
    "</details>\n"
   ]
  }
 ],
 "metadata": {
  "kernelspec": {
   "display_name": "hats-jec",
   "language": "python",
   "name": "hats-jec"
  },
  "language_info": {
   "codemirror_mode": {
    "name": "ipython",
    "version": 2
   },
   "file_extension": ".py",
   "mimetype": "text/x-python",
   "name": "python",
   "nbconvert_exporter": "python",
   "pygments_lexer": "ipython2",
   "version": "2.7.15+"
  }
 },
 "nbformat": 4,
 "nbformat_minor": 2
}
