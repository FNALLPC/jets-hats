{
 "cells": [
  {
   "cell_type": "markdown",
   "metadata": {},
   "source": [
    "# W and top tagging\n",
    "\n",
    "In this part of the tutorial, we will look at how different substructure algorithms can be used to identify jets originating from boosted W's and tops. Specifically, we'll see how these identification tools are used to separate these boosted jets from those originating from Standard Model QCD, a dominant process at the LHC.\n",
    "\n",
    "Run the following commands to produce the relevant histogram files from the SM ttbar, RS KK gluon, and QCD samples. It may take a few minutes - go ahead a grab a coffee while it runs."
   ]
  },
  {
   "cell_type": "code",
   "execution_count": null,
   "metadata": {},
   "outputs": [],
   "source": [
    "python $CMSSW_BASE/src/Analysis/JMEDAS/scripts/jmedas_make_histograms.py --files=$CMSSW_BASE/src/Analysis/JMEDAS/data/MiniAODs/RunIIFall17MiniAODv2/ttjets.txt --outname=$CMSSW_BASE/src/Analysis/JMEDAS/notebooks/files/ttjets.root --maxevents=2000 --maxFiles 10 --maxjets=6\n",
    "python $CMSSW_BASE/src/Analysis/JMEDAS/scripts/jmedas_make_histograms.py --files=$CMSSW_BASE/src/Analysis/JMEDAS/data/MiniAODs/RunIIFall17MiniAODv2/rsgluon_ttbar_3000GeV.txt --outname=$CMSSW_BASE/src/Analysis/JMEDAS/notebooks/files/rsgluon_ttbar_3TeV.root --maxevents=2000 --maxFiles 10 --maxjets=6\n",
    "python $CMSSW_BASE/src/Analysis/JMEDAS/scripts/jmedas_make_histograms.py --files=$CMSSW_BASE/src/Analysis/JMEDAS/data/MiniAODs/RunIIFall17MiniAODv2/QCD_Pt_300to470.txt --outname=$CMSSW_BASE/src/Analysis/JMEDAS/notebooks/files/QCD_Pt_300to470.root --maxevents=2000 --maxFiles 10 --maxjets=6"
   ]
  },
  {
   "cell_type": "markdown",
   "metadata": {},
   "source": [
    "# W Tagging\n",
    "\n",
    "We will now investigate how to identify W bosons using the substructure techniques we've learned. \n",
    "\n",
    "Compare the tau2 / tau1 ratio for the AK8 jets from Standard Model top quarks to those from the QCD sample using the below script 'W_tagging_part1.py.",
    "\n"
   ]
  },
  {
   "cell_type": "code",
   "execution_count": null,
   "metadata": {
    "scrolled": false
   },
   "outputs": [],
   "source": [
    "import ROOT\n",
    "\n",
    "f1 = ROOT.TFile(\"$CMSSW_BASE/src/Analysis/JMEDAS/notebooks/files/ttjets.root\")\n",
    "f2 = ROOT.TFile(\"$CMSSW_BASE/src/Analysis/JMEDAS/notebooks/files/QCD_Pt_300to470.root\")\n",
    "\n",
    "h_tau21AK8_1 = f1.Get(\"h_tau21AK8\")\n",
    "h_tau21AK8_2 = f2.Get(\"h_tau21AK8\")\n",
    "\n",
    "h_tau21AK8_1.SetLineColor(1)\n",
    "h_tau21AK8_2.SetLineColor(2)\n",
    "\n",
    "leg = ROOT.TLegend(0.12, 0.65, 0.32, 0.85)\n",
    "leg.SetFillColor(0)\n",
    "leg.SetBorderSize(0)\n",
    "leg.AddEntry(h_tau21AK8_1, \"t#bar{t}\", 'l')\n",
    "leg.AddEntry(h_tau21AK8_2, \"QCD\", 'l')\n",
    "\n",
    "h_tau21AK8_1.Sumw2()\n",
    "h_tau21AK8_1.Scale( 1.0 / h_tau21AK8_1.Integral() )\n",
    "h_tau21AK8_2.Sumw2()\n",
    "h_tau21AK8_2.Scale( 1.0 / h_tau21AK8_2.Integral() )\n",
    "\n",
    "c_tau21 = ROOT.TCanvas('c_tau21', 'c_tau21') \n",
    "h_tau21AK8_1.GetYaxis().SetRangeUser(0., max([h_tau21AK8_1.GetMaximum(), h_tau21AK8_2.GetMaximum()]) * 1.05)\n",
    "h_tau21AK8_1.Draw(\"hist\")\n",
    "h_tau21AK8_2.Draw(\"same hist\")\n",
    "leg.Draw()\n",
    "c_tau21.Draw()\n"
   ]
  },
  {
   "cell_type": "markdown",
   "metadata": {},
   "source": [
    "The plot should look like this:\n",
    "\n",
    "<img src=\"..//files/ak8tau21_topvqcd.png\" width=400px/>\n"
   ]
  },
  {
   "cell_type": "markdown",
   "metadata": {},
   "source": [
    "Now compare with the energy correlation function, N2b1, with W_tagging_part2.py:\n"
   ]
  },
  {
   "cell_type": "code",
   "execution_count": null,
   "metadata": {},
   "outputs": [],
   "source": [
    "import ROOT\n",
    "\n",
    "f1 = ROOT.TFile(\"$CMSSW_BASE/src/Analysis/JMEDAS/notebooks/files/ttjets.root\")\n",
    "f2 = ROOT.TFile(\"$CMSSW_BASE/src/Analysis/JMEDAS/notebooks/files/QCD_Pt_300to470.root\")\n",
    "\n",
    "h_ak8_N2_beta1_1 = f1.Get(\"h_ak8_N2_beta1\")\n",
    "h_ak8_N2_beta1_2 = f2.Get(\"h_ak8_N2_beta1\")\n",
    "\n",
    "h_ak8_N2_beta1_1.SetLineColor(1)\n",
    "h_ak8_N2_beta1_2.SetLineColor(2)\n",
    "\n",
    "leg = ROOT.TLegend(0.65, 0.5, 0.85, 0.7)\n",
    "leg.SetFillColor(0)\n",
    "leg.SetBorderSize(0)\n",
    "leg.AddEntry(h_ak8_N2_beta1_1, \"t#bar{t}\", 'l')\n",
    "leg.AddEntry(h_ak8_N2_beta1_2, \"QCD\", 'l')\n",
    "\n",
    "h_ak8_N2_beta1_1.Sumw2()\n",
    "h_ak8_N2_beta1_1.Scale( 1.0 / h_ak8_N2_beta1_1.Integral() )\n",
    "h_ak8_N2_beta1_2.Sumw2()\n",
    "h_ak8_N2_beta1_2.Scale( 1.0 / h_ak8_N2_beta1_2.Integral() )\n",
    "\n",
    "c_n2 = ROOT.TCanvas('c_n2', 'c_n2') \n",
    "h_ak8_N2_beta1_1.GetYaxis().SetRangeUser(0., max([h_ak8_N2_beta1_1.GetMaximum(), h_ak8_N2_beta1_2.GetMaximum()]) * 1.05)\n",
    "h_ak8_N2_beta1_1.Draw(\"hist\")\n",
    "h_ak8_N2_beta1_2.Draw(\"same hist\")\n",
    "leg.Draw()\n",
    "c_n2.Draw()"
   ]
  },
  {
   "cell_type": "markdown",
   "metadata": {},
   "source": [
    "The plot should look like this:\n",
    "\n",
    "<img src=\"..//files/ak8N2b1_topvqcd.png\" width=400px/>\n"
   ]
  },
  {
   "cell_type": "markdown",
   "metadata": {},
   "source": [
    "# Quiz\n",
    "\n",
    "* Why can we use a ttbar sample to talk about W-tagging? (Hint: look at the two peaks in the jet mass plots later in the exercise.)\n",
    "* What cuts would you place on these variables to distinguish W bosons from QCD?\n",
    "* So far, which variable looks more promising?"
   ]
  },
  {
   "cell_type": "markdown",
   "metadata": {},
   "source": [
    "# Top Tagging\n",
    "\n",
    "We will now investigate how to identify top quarks using the substructure techniques we've learned.\n",
    "\n",
    "Compare the tau3/ tau2 ratio for the boosted top quarks from the RS KK gluon sample, and the jets from the QCD sample using the T_tagging_part1.py script.\n"
   ]
  },
  {
   "cell_type": "code",
   "execution_count": null,
   "metadata": {
    "scrolled": false
   },
   "outputs": [],
   "source": [
    "import ROOT\n",
    "\n",
    "f1 = ROOT.TFile(\"$CMSSW_BASE/src/Analysis/JMEDAS/notebooks/files/rsgluon_ttbar_3TeV.root\")\n",
    "f2 = ROOT.TFile(\"$CMSSW_BASE/src/Analysis/JMEDAS/notebooks/files/QCD_Pt_300to470.root\")\n",
    "\n",
    "h_tau32AK8_1 = f1.Get(\"h_tau32AK8\")\n",
    "h_tau32AK8_2 = f2.Get(\"h_tau32AK8\")\n",
    "\n",
    "h_tau32AK8_1.SetLineColor(1)\n",
    "h_tau32AK8_2.SetLineColor(2)\n",
    "\n",
    "leg = ROOT.TLegend(0.15, 0.6, 0.35, 0.8)\n",
    "leg.SetFillColor(0)\n",
    "leg.SetBorderSize(0)\n",
    "leg.AddEntry( h_tau32AK8_1, \"RS KK Gluon\", 'l')\n",
    "leg.AddEntry( h_tau32AK8_2, \"QCD\", 'l')\n",
    "\n",
    "h_tau32AK8_1.Sumw2()\n",
    "h_tau32AK8_1.Scale(1.0 / h_tau32AK8_1.Integral() )\n",
    "h_tau32AK8_2.Sumw2()\n",
    "h_tau32AK8_2.Scale(1.0 / h_tau32AK8_2.Integral() )\n",
    "\n",
    "c_tau32 = ROOT.TCanvas('c_tau32', 'c_tau32') \n",
    "h_tau32AK8_1.GetYaxis().SetRangeUser(0., max([h_tau32AK8_1.GetMaximum(), h_tau32AK8_2.GetMaximum()]) * 1.05)\n",
    "h_tau32AK8_2.Draw(\"hist\")\n",
    "h_tau32AK8_1.Draw(\"same hist\")\n",
    "leg.Draw()\n",
    "c_tau32.Draw()"
   ]
  },
  {
   "cell_type": "markdown",
   "metadata": {},
   "source": [
    "The plot should look like this:\n",
    "\n",
    "<img src=\"../files/ak8tau32_topvqcd.png\" width=400px/>\n"
   ]
  },
  {
   "cell_type": "markdown",
   "metadata": {},
   "source": [
    "Now compare the energy correlation function N3b1 with T_tagging_part2.py:\n"
   ]
  },
  {
   "cell_type": "code",
   "execution_count": null,
   "metadata": {},
   "outputs": [],
   "source": [
    "import ROOT\n",
    "\n",
    "f1 = ROOT.TFile(\"$CMSSW_BASE/src/Analysis/JMEDAS/notebooks/files/rsgluon_ttbar_3TeV.root\")\n",
    "f2 = ROOT.TFile(\"$CMSSW_BASE/src/Analysis/JMEDAS/notebooks/files/QCD_Pt_300to470.root\")\n",
    "\n",
    "h_ak8_N3_beta1_1 = f1.Get(\"h_ak8_N3_beta1\")\n",
    "h_ak8_N3_beta1_2 = f2.Get(\"h_ak8_N3_beta1\")\n",
    "\n",
    "h_ak8_N3_beta1_1.SetLineColor(1)\n",
    "h_ak8_N3_beta1_2.SetLineColor(2)\n",
    "\n",
    "leg = ROOT.TLegend(0.15, 0.5, 0.35, 0.7)\n",
    "leg.SetFillColor(0)\n",
    "leg.SetBorderSize(0)\n",
    "leg.AddEntry( h_ak8_N3_beta1_1, \"RS KK Gluon\", 'l')\n",
    "leg.AddEntry( h_ak8_N3_beta1_2, \"QCD\", 'l')\n",
    "\n",
    "h_ak8_N3_beta1_1.Sumw2()\n",
    "h_ak8_N3_beta1_1.Scale(1.0 / h_ak8_N3_beta1_1.Integral())\n",
    "h_ak8_N3_beta1_2.Sumw2()\n",
    "h_ak8_N3_beta1_2.Scale(1.0 / h_ak8_N3_beta1_2.Integral())\n",
    "\n",
    "c_n3 = ROOT.TCanvas('c_n3', 'c_n3') \n",
    "h_ak8_N3_beta1_1.GetYaxis().SetRangeUser(0., max([h_ak8_N3_beta1_1.GetMaximum(), h_ak8_N3_beta1_2.GetMaximum()]) * 1.05)\n",
    "h_ak8_N3_beta1_1    .Draw(\"hist\")\n",
    "h_ak8_N3_beta1_2    .Draw(\"same hist\")\n",
    "leg.Draw()\n",
    "c_n3.Draw()"
   ]
  },
  {
   "cell_type": "markdown",
   "metadata": {},
   "source": [
    "The plot should look like this:\n",
    "\n",
    "<img src=\"../files/ak8N3b1_topvqcd.png\" width=400px/>\n"
   ]
  },
  {
   "cell_type": "markdown",
   "metadata": {},
   "source": [
    "# Quiz\n",
    "\n",
    "* What cut would you apply to select boosted top quarks?\n",
    "* For both the W and top selections, what other variable(s) could we cut on in addition?"
   ]
  },
  {
   "cell_type": "markdown",
   "metadata": {},
   "source": [
    "# Jet Mass\n",
    "\n",
    "We can also use jet mass to distinguish our boosted W and top jets from QCD. Let's compare the AK8 jet mass of the boosted top quarks from the RS KK sample and the jets from the QCD sample. Let's also look at the ungroomed jet mass (labeled as CHS) and the softdrop groomed jet mass combined with the PUPPI pileup subtraction algorithm.\n",
    "Execute the following jet_mass.py script in terminal and open the plot."
   ]
  },
  {
   "cell_type": "code",
   "execution_count": null,
   "metadata": {},
   "outputs": [],
   "source": [
    "f1 = ROOT.TFile(\"$CMSSW_BASE/src/Analysis/JMEDAS/notebooks/files/rsgluon_ttbar_3TeV.root\")\n",
    "f2 = ROOT.TFile(\"$CMSSW_BASE/src/Analysis/JMEDAS/notebooks/files/QCD_Pt_300to470.root\")\n",
    "\n",
    "h_massAK8_1 = f1.Get(\"h_mAK8\")\n",
    "h_massAK8_2 = f2.Get(\"h_mAK8\")\n",
    "h_massAK8_3 = f1.Get(\"h_mSDpuppiAK8\")\n",
    "h_massAK8_4 = f2.Get(\"h_mSDpuppiAK8\")\n",
    "\n",
    "h_massAK8_1.SetLineColor(1)\n",
    "h_massAK8_2.SetLineColor(2)\n",
    "h_massAK8_3.SetLineColor(3)\n",
    "h_massAK8_4.SetLineColor(4)\n",
    "\n",
    "leg = ROOT.TLegend(0.5, 0.5, 0.7, 0.8)\n",
    "leg.SetFillColor(0)\n",
    "leg.SetBorderSize(0)\n",
    "leg.AddEntry( h_massAK8_1, \"\", \"\")\n",
    "leg.AddEntry( h_massAK8_1, \"RS KK Gluon CHS\", 'l')\n",
    "leg.AddEntry( h_massAK8_2, \"QCD CHS\", 'l')\n",
    "leg.AddEntry( h_massAK8_3, \"RS KK Gluon SD+PUPPI\", 'l')\n",
    "leg.AddEntry( h_massAK8_4, \"QCD SD+PUPPI\", 'l')\n",
    "\n",
    "h_massAK8_1.Sumw2()\n",
    "h_massAK8_1.Scale( 1.0 / h_massAK8_1.Integral() )\n",
    "h_massAK8_2.Sumw2()\n",
    "h_massAK8_2.Scale( 1.0 / h_massAK8_2.Integral() )\n",
    "h_massAK8_3.Sumw2()\n",
    "h_massAK8_3.Scale( 1.0 / h_massAK8_3.Integral() )\n",
    "h_massAK8_4.Sumw2()\n",
    "h_massAK8_4.Scale( 1.0 / h_massAK8_4.Integral() )\n",
    "\n",
    "c_puppimass = ROOT.TCanvas('c_puppimass', 'c_puppimass') \n",
    "h_massAK8_1.GetXaxis().SetRangeUser(0., 400.)\n",
    "h_massAK8_1.GetYaxis().SetRangeUser(0., max([h_massAK8_1.GetMaximum(), h_massAK8_2.GetMaximum(), h_massAK8_3.GetMaximum(), h_massAK8_4.GetMaximum()]) * 1.05)\n",
    "h_massAK8_1.Draw(\"hist\")\n",
    "h_massAK8_2.Draw(\"same hist\")\n",
    "h_massAK8_3.Draw(\"same hist\")\n",
    "h_massAK8_4.Draw(\"same hist\")\n",
    "\n",
    "\n",
    "leg.Draw()\n",
    "c_puppimass.Draw()"
   ]
  },
  {
   "cell_type": "markdown",
   "metadata": {},
   "source": [
    "The plot should look like this:\n",
    "\n",
    "<img src=\"../files/ak8jetmass_topvqcd.png\" width=400px/>\n"
   ]
  },
  {
   "cell_type": "markdown",
   "metadata": {},
   "source": [
    "# Quiz\n",
    "\n",
    "* Which does better at separating the QCD from both the top and W mass peaks - CHS or softdrop + PUPPI?"
   ]
  },
  {
   "cell_type": "markdown",
   "metadata": {},
   "source": [
    "# Go Further\n",
    "\n",
    "* You can learn more about jet grooming from the jet substructure exercise and PUPPI from the pileup mitigation exercise.\n",
    "* We briefly mentioned that you can combine variables for even better discrimination. In CMS, we do this to build our jet taggers. For the simple taggers, we often combine cuts on jet substructure variables and jet mass. The more sophisticated taggers, which are used more and more widely within CMS, use deep neural networks. To learn about building a machine learning tagger, check out the [machine learning short exercise](https://twiki.cern.ch/twiki/bin/view/CMS/SWGuideCMSDataAnalysisSchoolCERN2020MLShortExercise)."
   ]
  },
  {
   "cell_type": "code",
   "execution_count": null,
   "metadata": {},
   "outputs": [],
   "source": []
  }
 ],
 "metadata": {
  "kernelspec": {
   "display_name": "hats-jec",
   "language": "python",
   "name": "hats-jec"
  },
  "language_info": {
   "codemirror_mode": {
    "name": "ipython",
    "version": 2
   },
   "file_extension": ".py",
   "mimetype": "text/x-python",
   "name": "python",
   "nbconvert_exporter": "python",
   "pygments_lexer": "ipython2",
   "version": "2.7.15+"
  }
 },
 "nbformat": 4,
 "nbformat_minor": 2
}
