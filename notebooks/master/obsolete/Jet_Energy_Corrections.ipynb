{
 "cells": [
  {
   "cell_type": "markdown",
   "metadata": {
    "slideshow": {
     "slide_type": "slide"
    }
   },
   "source": [
    "# Jet Energy Corrections\n",
    "\n",
    "From the previous exercise, recall the comparison of PFJets with GenJets. Let's plot a reco-jet vs gen-jet comparison again for a refresher with the below script 'JEC_part1.py' and open the produced JEC_part1.pdf."
   ]
  },
  {
   "cell_type": "code",
   "execution_count": null,
   "metadata": {
    "slideshow": {
     "slide_type": "slide"
    }
   },
   "outputs": [],
   "source": [
    "import ROOT\n",
    "f = ROOT.TFile(\"$CMSSW_BASE/src/Analysis/JMEDAS/notebooks/files/ttjets.root\")\n",
    "\n",
    "h_ptAK4   = f.Get(\"h_ptAK4\")\n",
    "h_ptAK4Gen   = f.Get(\"h_ptAK4Gen\")\n",
    "\n",
    "h_ptAK4Gen.SetLineStyle(2) \n",
    "h_ptAK4Gen.SetLineColor(2) \n",
    "c_pt = ROOT.TCanvas('c_pt', 'c_pt', 600, 400)\n",
    "ROOT.gPad.SetLogy()\n",
    "h_ptAK4.Draw()\n",
    "h_ptAK4Gen.Draw(\"same\")\n",
    "h_ptAK4.GetXaxis().SetRangeUser(0, 600)\n",
    "leg = ROOT.TLegend(0.6, 0.6, 0.8, 0.8)\n",
    "leg.AddEntry(h_ptAK4, \"RECO\", \"l\")\n",
    "leg.AddEntry(h_ptAK4Gen, \"GEN\", \"l\")\n",
    "leg.SetFillColor(0)\n",
    "leg.SetLineColor(0)\n",
    "leg.Draw(\"same\")\n",
    "ROOT.enableJSVis()\n",
    "c_pt.Draw()\n"
   ]
  },
  {
   "cell_type": "markdown",
   "metadata": {
    "slideshow": {
     "slide_type": "slide"
    }
   },
   "source": [
    "The $p_{\\mathrm{T}}$ distributions disagree quite a bit between the GenJets and PFJets. We need to apply the *jet energy corrections* (JECs), a sequence of corrections that address non-uniform responses in $p_{\\mathrm{T}}$ and $\\eta$, as well as an average correction for pileup. The JECs are often updated fairly late in the analysis cycle, simply due to the fact that the JEC experts start deriving the JECs at the same time the analyzers start developing their analyses. For this reason, it is imperative for analyzers to maintain flexibility in the JEC, and the software reflects this. It is possible to run the JEC software \"on the fly\" after you've done your heavy processing (PAT-tuple creation, skimming,etc). We will now show how this is done.\n",
    "\n",
    "For more information and technical details on the jet energy scale calibration in CMS, look at the following twiki: https://twiki.cern.ch/twiki/bin/view/CMSPublic/WorkBookJetEnergyCorrections. \n",
    "\n",
    "Start by running the histogram-making code, this time asking it to apply the JECs. While it's running, take a look at the code and make sure you understand the parts relevant to JEC (try a text search for \"args.correctJets\"). "
   ]
  },
  {
   "cell_type": "code",
   "execution_count": null,
   "metadata": {
    "slideshow": {
     "slide_type": "subslide"
    }
   },
   "outputs": [],
   "source": [
    "python $CMSSW_BASE/src/Analysis/JMEDAS/scripts/jmedas_make_histograms.py --files=$CMSSW_BASE/src/Analysis/JMEDAS/data/MiniAODs/RunIIFall17MiniAODv2/ttjets2023.txt --outname=$CMSSW_BASE/src/Analysis/JMEDAS/notebooks/files/ttjets_corr.root --maxevents=2000 --maxjets=6 --maxFiles 10 --correctJets Fall17_17Nov2017_V32_MC\n"
   ]
  },
  {
   "cell_type": "markdown",
   "metadata": {
    "slideshow": {
     "slide_type": "fragment"
    }
   },
   "source": [
    "The string \"Fall17_17Nov2017_V32\" points to the JEC text files in the directory /data/JECs, which were downloaded from [this twiki](https://twiki.cern.ch/twiki/bin/view/CMS/JECDataMC). You can also create the text files using the JetCorrectorDBReader module in CMSSW (see the cmsRun cfg at scripts/JetCorrectionDBReader_cfg.py), but for technical reasons, this method can be error-prone (see the JEC twiki for more details). "
   ]
  },
  {
   "cell_type": "markdown",
   "metadata": {
    "slideshow": {
     "slide_type": "slide"
    }
   },
   "source": [
    "## Exercise: Before and after JECs\n",
    "\n",
    "Let's check the GenJets-PFJets agreement after applying the JECs with the 'JEC_part2.py' script.\n",
    "Have a look at the script (shown below), execute it and open the produced two plots. Inspect the plots carefully to see the differences between corrected, uncorrected and generator-level jets."
   ]
  },
  {
   "cell_type": "code",
   "execution_count": null,
   "metadata": {
    "slideshow": {
     "slide_type": "slide"
    }
   },
   "outputs": [],
   "source": [
    "f_corr = ROOT.TFile(\"$CMSSW_BASE/src/Analysis/JMEDAS/notebooks/files/ttjets_corr.root\")\n",
    "\n",
    "h_ptAK4_corr = f_corr.Get(\"h_ptAK4\")\n",
    "h_ptAK4Gen_corr = f_corr.Get(\"h_ptAK4Gen\")\n",
    "\n",
    "h_ptAK4Gen_corr.SetLineStyle(2) \n",
    "h_ptAK4Gen_corr.SetLineColor(2) \n",
    "c_corr = ROOT.TCanvas('c_corr', 'c', 800, 400)\n",
    "c_corr.Divide(2,1)\n",
    "c_corr.cd(1)\n",
    "ROOT.gPad.SetLogy()\n",
    "h_ptAK4_corr.Draw()\n",
    "h_ptAK4_corr.SetTitle(\"AK4 Jet p_{T} (corrected)\")\n",
    "h_ptAK4Gen_corr.Draw(\"same\")\n",
    "h_ptAK4_corr.GetXaxis().SetRangeUser(0, 1000)\n",
    "leg_corr = ROOT.TLegend(0.6, 0.6, 0.8, 0.8)\n",
    "leg_corr.AddEntry(h_ptAK4, \"RECO\", \"l\")\n",
    "leg_corr.AddEntry(h_ptAK4Gen, \"GEN\", \"l\")\n",
    "leg_corr.SetFillColor(0)\n",
    "leg_corr.SetLineColor(0)\n",
    "leg_corr.Draw(\"same\")\n",
    "\n",
    "c_corr.cd(2)\n",
    "ROOT.gPad.SetLogy()\n",
    "h_ptAK4.Draw()\n",
    "h_ptAK4.SetTitle(\"AK4 Jet p_{T} (uncorrected)\")\n",
    "h_ptAK4Gen.Draw(\"same\")\n",
    "h_ptAK4.GetXaxis().SetRangeUser(0, 1000)\n",
    "leg = ROOT.TLegend(0.6, 0.6, 0.8, 0.8)\n",
    "leg.AddEntry(h_ptAK4, \"RECO\", \"l\")\n",
    "leg.AddEntry(h_ptAK4Gen, \"GEN\", \"l\")\n",
    "leg.SetFillColor(0)\n",
    "leg.SetLineColor(0)\n",
    "leg.Draw(\"same\")\n",
    "\n",
    "c_corr.Draw()\n",
    "\n",
    "c_compare = ROOT.TCanvas(\"c_compare\", \"c_compare\", 400, 400)\n",
    "c_compare.SetLogy()\n",
    "h_ptAK4_norm = h_ptAK4.Clone()\n",
    "h_ptAK4_norm.Scale(1. / h_ptAK4_norm.Integral())\n",
    "h_ptAK4_norm.SetLineStyle(2)\n",
    "h_ptAK4_norm.SetLineColor(ROOT.kRed)\n",
    "h_ptAK4_norm.SetTitle(\"Corrected vs. Uncorrected\")\n",
    "h_ptAK4_norm.Draw(\"hist\")\n",
    "\n",
    "h_ptAK4_corr_norm = h_ptAK4_corr.Clone()\n",
    "h_ptAK4_corr_norm.Scale(1. / h_ptAK4_corr_norm.Integral())\n",
    "h_ptAK4_corr_norm.SetLineStyle(1)\n",
    "h_ptAK4_corr_norm.SetLineColor(ROOT.kBlack)\n",
    "h_ptAK4_corr_norm.Draw(\"hist same\")\n",
    "l_compare = ROOT.TLegend(0.55, 0.5, 0.88, 0.8)\n",
    "l_compare.SetFillColor(0)\n",
    "l_compare.SetBorderSize(0)\n",
    "l_compare.AddEntry(h_ptAK4_norm, \"Uncorrected AK4PFJets\", \"l\")\n",
    "l_compare.AddEntry(h_ptAK4_corr_norm, \"Corrected AK4PFJets\", \"l\")\n",
    "l_compare.Draw()\n",
    "c_compare.Draw()\n",
    "\n"
   ]
  },
  {
   "cell_type": "markdown",
   "metadata": {
    "slideshow": {
     "slide_type": "slide"
    }
   },
   "source": [
    "## JEC Uncertainties\n",
    "\n",
    "Since we've applied the JEC corrections to the distributions, we should also assign a systematic uncertainty to the procedure. The procedure is explained at [this twiki](https://twiki.cern.ch/twiki/bin/view/CMSPublic/WorkBookJetEnergyCorrections#JetCorUncertainties). \n",
    "\n",
    "The uncertainties are implemented in `jmedas_make_histograms.py`. The histogram files you've made already have the up- and down-variation histograms. The relevant piece of code is:\n",
    "\n",
    "```\n",
    "corr = 1.0\n",
    "corrUp = 1.0\n",
    "corrDn = 1.0\n",
    "# Get the latest, greatest jet corrections\n",
    "if args.correctJets : \n",
    "    jec.setJetEta( uncorrJet.eta() )\n",
    "    jec.setJetPt ( uncorrJet.pt() )\n",
    "    jec.setJetE  ( uncorrJet.energy() )\n",
    "    jec.setJetA  ( jet.jetArea() )\n",
    "    jec.setRho   ( rhoValue[0] )\n",
    "    jec.setNPV   ( len(pvs) )\n",
    "    icorr = jec.getCorrection()\n",
    "    corr *= icorr\n",
    "    corrUp *= icorr\n",
    "    corrDn *= icorr\n",
    "\n",
    "\n",
    "    #JEC Uncertainty\n",
    "    jecUnc.setJetEta( uncorrJet.eta() )\n",
    "    jecUnc.setJetPhi( uncorrJet.phi() )\n",
    "    jecUnc.setJetPt( corr * uncorrJet.pt() )\n",
    "    corrUp += jecUnc.getUncertainty(1)\n",
    "    jecUnc.setJetEta( uncorrJet.eta() )\n",
    "    jecUnc.setJetPhi( uncorrJet.phi() )\n",
    "    jecUnc.setJetPt( corr * uncorrJet.pt() )\n",
    "    corrDn -= jecUnc.getUncertainty(0)\n",
    "\n",
    "\n",
    "h_ptAK4.Fill( corr * uncorrJet.pt() )\n",
    "h_JECValueAK4.Fill( corr )\n",
    "h_ptUncorrAK4.Fill( uncorrJet.pt() )\n",
    "h_ptDownAK4.Fill( corrDn * uncorrJet.pt() )\n",
    "h_ptUpAK4.Fill( corrUp * uncorrJet.pt() )\n",
    "```\n",
    "\n",
    "Now run the script JEC_uncertainty.py (shown below) to plot a comparison of the nominal and varied jet energy spectra. Does the result make sense? Is the nominal histogram always between the up and down variations, and should it be?"
   ]
  },
  {
   "cell_type": "code",
   "execution_count": null,
   "metadata": {},
   "outputs": [],
   "source": [
    "h_ptAK4_corr   = f_corr.Get(\"h_ptAK4\")\n",
    "h_ptAK4_corrUp  = f_corr.Get(\"h_ptUpAK4\")\n",
    "h_ptAK4_corrDown  = f_corr.Get(\"h_ptDownAK4\")\n",
    "\n",
    "h_ptAK4_corr.SetLineWidth(2)\n",
    "h_ptAK4_corrUp.SetLineStyle(2)\n",
    "h_ptAK4_corrUp.SetLineColor(ROOT.kGreen+1) \n",
    "h_ptAK4_corrDown.SetLineStyle(2)\n",
    "h_ptAK4_corrDown.SetLineColor(ROOT.kRed) \n",
    "h_ptAK4_corrUp.SetLineWidth(2)\n",
    "h_ptAK4_corrDown.SetLineWidth(2)\n",
    "\n",
    "c_JECunc = ROOT.TCanvas('c', 'c')\n",
    "\n",
    "h_ptAK4_corr.Draw()\n",
    "h_ptAK4_corrUp.Draw(\"same\")\n",
    "h_ptAK4_corrDown.Draw(\"same\")\n",
    "h_ptAK4_corr.GetXaxis().SetRangeUser(0, 400)\n",
    "\n",
    "leg_corr = ROOT.TLegend(0.45, 0.55, 0.75, 0.8)\n",
    "leg_corr.AddEntry(h_ptAK4_corr, \"Nominal JEC\", \"l\")\n",
    "leg_corr.AddEntry(h_ptAK4_corrUp, \"JEC +1 #sigma\", \"l\")\n",
    "leg_corr.AddEntry(h_ptAK4_corrDown, \"JEC -1 #sigma\", \"l\")\n",
    "leg_corr.SetLineWidth(0)\n",
    "leg_corr.SetFillColor(0)\n",
    "leg_corr.SetShadowColor(0)\n",
    "leg_corr.Draw()\n",
    "\n",
    "c_JECunc.Draw()\n"
   ]
  },
  {
   "cell_type": "markdown",
   "metadata": {},
   "source": [
    "## Discussion\n",
    "Why do we need to calibrate jet energy? Why is \"jet response\" not equal to 1? Can you think of a physics process in nature that can help us calibrate the jet response to 1?\n",
    "\n",
    "The amount of material in front of the CMS calorimeter varies by $\\eta$. Therefore, the calorimeter response to jet is also a function of jet $\\eta$. Can you think of a physics process in nature that can help us calibrate the jet response in $\\eta$ to be uniform ?\n"
   ]
  },
  {
   "cell_type": "code",
   "execution_count": null,
   "metadata": {},
   "outputs": [],
   "source": []
  }
 ],
 "metadata": {
  "celltoolbar": "Slideshow",
  "kernelspec": {
   "display_name": "hats-jec",
   "language": "python",
   "name": "hats-jec"
  },
  "language_info": {
   "codemirror_mode": {
    "name": "ipython",
    "version": 2
   },
   "file_extension": ".py",
   "mimetype": "text/x-python",
   "name": "python",
   "nbconvert_exporter": "python",
   "pygments_lexer": "ipython2",
   "version": "2.7.15+"
  }
 },
 "nbformat": 4,
 "nbformat_minor": 2
}
