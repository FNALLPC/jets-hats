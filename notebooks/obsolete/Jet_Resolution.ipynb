{
 "cells": [
  {
   "cell_type": "markdown",
   "metadata": {},
   "source": [
    "# Jet Energy Resolution\n",
    "\n",
    "Jets are stochastic objects. The content of jets fluctuates quite a lot, and the content also depends on what actually caused the jet (uds quarks, gluons, etc). In addition, there are experimental limitations to the measurement of jets. Both of these aspects limit the accuracy to which we can measure the 4-momentum of a jet. The way to quantify our accuracy of measuring jet energy is called the jet energy resolution (JER). If you have a group of single pions that have the same energy, the energy measured by CMS will not be exactly the same every time, but will typically follow a (roughly) Gaussian distribution with a mean and a width. The mean is corrected using the jet energy corrections. It is impossible to \"correct\" for all resolution effects on a jet-by-jet basis, although regression techniques can account for many effects.\n",
    "\n",
    "As such, there will always be some experimental and theoretical uncertainty in the jet energy measurement, and this is seen as non-zero jet energy resolution. There is also other jet-related resolutions such as jet angular resolution and jet mass resolution, but JER is what we most often have to deal with.\n",
    "Jets measured from data have typically worse resolution than simulated jets. Because of this, it is important to 'smear' the MC jets with jet energy resolution (JER) scale factors, so that measured and simulated jets are on equal footing in analyses. We will demonstrate how to apply the JER scale factors, since that is applicable for all analyses that use jets. More information can be found at the jet resolution twiki and jet resolution software guide. The resolution is measured in data for different eta bins, and was approximately 10% with a 10% uncertainty for 7 TeV and 8 TeV data. For precision, it is important to use the correctly measured resolutions, but a reasonable calculation is to assume a flat 10% uncertainty for simplicity.\n",
    "\n",
    "To perform this on `pat::Jets` in MC miniAOD, the syntax is:\n",
    "\n",
    "```\n",
    "smear = getJER(jet.eta(), 0) #JER nominal=0, up=+1, down=-1\n",
    "smearUp = getJER(jet.eta(), 1) #JER nominal=0, up=+1, down=-1\n",
    "smearDn = getJER(jet.eta(), -1) #JER nominal=0, up=+1, down=-1\n",
    "recopt = jet.pt()\n",
    "genpt = genJet.pt()\n",
    "deltapt = (recopt-genpt)*(smear-1.0)\n",
    "deltaptUp = (recopt-genpt)*(smearUp-1.0)\n",
    "deltaptDn = (recopt-genpt)*(smearDn-1.0)\n",
    "ptsmear = max(0.0, (recopt+deltapt)/recopt)\n",
    "ptsmearUp = max(0.0, (recopt+deltaptUp)/recopt)\n",
    "ptsmearDn = max(0.0, (recopt+deltaptDn)/recopt)\n",
    "corr *= ptsmear\n",
    "corrUp *= ptsmearUp\n",
    "corrDn *= ptsmearDn\n",
    "```\n",
    "\n",
    "You can see that the smearing scales the difference between the reconstructed and truth-level jet $p_{\\mathrm{T}}$s. The smearing value is taken from the function `getJER()`. \n",
    "\n",
    "Run the below command in cmslpc to create histograms with the JER smearing applied. As usual, open `jmedas_make_histograms.py` again, and understand what the `getJER()` function does.  "
   ]
  },
  {
   "cell_type": "code",
   "execution_count": null,
   "metadata": {},
   "outputs": [],
   "source": [
    "python $CMSSW_BASE/src/Analysis/JMEDAS/scripts/jmedas_make_histograms.py --files=$CMSSW_BASE/src/Analysis/JMEDAS/data/MiniAODs/RunIIFall17MiniAODv2/ttjets2023.txt --outname=$CMSSW_BASE/src/Analysis/JMEDAS/notebooks/files/ttjets_corr_smear.root --maxevents=2000 --maxFiles 10 --maxjets=2 --correctJets Fall17_17Nov2017_V32_MC --smearJets\n"
   ]
  },
  {
   "cell_type": "markdown",
   "metadata": {},
   "source": [
    "...and run the JER_part1.py script to plot the histograms. Open the produced plot with evince. \n",
    "\n",
    "For our sample, which has a larger effect, jet energy correction uncertainty, or jet energy resolution uncertainty?\n"
   ]
  },
  {
   "cell_type": "code",
   "execution_count": null,
   "metadata": {},
   "outputs": [],
   "source": [
    "import ROOT\n",
    "\n",
    "f = ROOT.TFile(\"$CMSSW_BASE/src/Analysis/JMEDAS/notebooks/files/ttjets_corr_smear.root\")\n",
    "h_ptAK4   = f.Get(\"h_ptAK4\")\n",
    "h_ptAK4Up  = f.Get(\"h_ptUpAK4\")\n",
    "h_ptAK4Down  = f.Get(\"h_ptDownAK4\")\n",
    "h_ptAK4Up.SetLineStyle(2)\n",
    "h_ptAK4Up.SetLineColor(ROOT.kGreen+1) \n",
    "h_ptAK4Down.SetLineStyle(2)\n",
    "h_ptAK4Down.SetLineColor(ROOT.kRed) \n",
    "h_ptAK4Up.SetLineWidth(2)\n",
    "h_ptAK4Down.SetLineWidth(2)\n",
    "h_ptAK4.SetLineWidth(2)\n",
    "\n",
    "c = ROOT.TCanvas('c', 'c')\n",
    "\n",
    "h_ptAK4.Draw()\n",
    "h_ptAK4Up.Draw(\"same\")\n",
    "h_ptAK4Down.Draw(\"same\")\n",
    "h_ptAK4.GetXaxis().SetRangeUser(0, 400)\n",
    "\n",
    "leg = ROOT.TLegend(0.45, 0.55, 0.75, 0.8)\n",
    "leg.AddEntry(h_ptAK4, \"Nominal JER\", \"l\")\n",
    "leg.AddEntry(h_ptAK4Up, \"JER +1 #sigma\", \"l\")\n",
    "leg.AddEntry(h_ptAK4Down, \"JER -1 #sigma\", \"l\")\n",
    "leg.SetLineWidth(0)\n",
    "leg.SetFillColor(0)\n",
    "leg.SetShadowColor(0)\n",
    "leg.Draw()\n",
    "\n",
    "c.Draw()"
   ]
  },
  {
   "cell_type": "markdown",
   "metadata": {},
   "source": [
    "## Dijet resonance peaks\n",
    "As a final exercise for the first part of this exercise, let's look at a simple dijet resonance peak. The following cell will produce histograms from an MC sample of Randall-Sundrum gravitons (RSGs) with m=3 TeV decaying to two quarks. The resulting signature is two high-$p_{\\mathrm{T}}$ jets, with a truth-level invariant mass of 3 TeV. \n",
    "\n",
    "Execute the below commands in terminal and while the code is running, look at the script (scripts/jmedas_dijet.py). Hint: you can execute all the processes at once by copy-pasteing all rows from the below script box at once. Be patient, this takes a while."
   ]
  },
  {
   "cell_type": "code",
   "execution_count": null,
   "metadata": {},
   "outputs": [],
   "source": [
    "python $CMSSW_BASE/src/Analysis/JMEDAS/scripts/jmedas_dijet.py --files=$CMSSW_BASE/src/Analysis/JMEDAS/data/MiniAODs/RunIIFall17MiniAODv2/rsgluon_qq_3000GeV.txt --outname=$CMSSW_BASE/src/Analysis/JMEDAS/notebooks/files/rsgluon_qq_3000GeV.root --maxevents=4000 --maxjets=6\n",
    "python $CMSSW_BASE/src/Analysis/JMEDAS/scripts/jmedas_dijet.py --files=$CMSSW_BASE/src/Analysis/JMEDAS/data/MiniAODs/RunIIFall17MiniAODv2/rsgluon_qq_3000GeV.txt --outname=$CMSSW_BASE/src/Analysis/JMEDAS/notebooks/files/rsgluon_qq_3000GeV_corr.root --maxevents=4000 --maxjets=6 --correctJets Fall17_17Nov2017_V32_MC\n",
    "python $CMSSW_BASE/src/Analysis/JMEDAS/scripts/jmedas_dijet.py --files=$CMSSW_BASE/src/Analysis/JMEDAS/data/MiniAODs/RunIIFall17MiniAODv2/rsgluon_qq_3000GeV.txt --outname=$CMSSW_BASE/src/Analysis/JMEDAS/notebooks/files/rsgluon_qq_3000GeV_smear.root --maxevents=4000 --maxjets=6 --smearJets\n",
    "python $CMSSW_BASE/src/Analysis/JMEDAS/scripts/jmedas_dijet.py --files=$CMSSW_BASE/src/Analysis/JMEDAS/data/MiniAODs/RunIIFall17MiniAODv2/rsgluon_qq_3000GeV.txt --outname=$CMSSW_BASE/src/Analysis/JMEDAS/notebooks/files/rsgluon_qq_3000GeV_corr_smear.root --maxevents=4000 --maxjets=6 --correctJets Fall17_17Nov2017_V32_MC --smearJets\n"
   ]
  },
  {
   "cell_type": "markdown",
   "metadata": {},
   "source": [
    "...and then plot the resulting histograms with script JER_part2.py shown below. Open the produced plot and take a good look at how the smearing and jet energy corrections affect the dijet mass peak."
   ]
  },
  {
   "cell_type": "code",
   "execution_count": null,
   "metadata": {},
   "outputs": [],
   "source": [
    "f_nominal = ROOT.TFile(\"$CMSSW_BASE/src/Analysis/JMEDAS/notebooks/files/rsgluon_qq_3000GeV.root\")\n",
    "h_nominal = f_nominal.Get(\"h_dijet_mass\")\n",
    "h_nominal.SetName(\"h_dijet_mass_nominal\")\n",
    "h_nominal.SetDirectory(0)\n",
    "h_gen = f_nominal.Get(\"h_dijet_genmass\")\n",
    "h_gen.SetDirectory(0)\n",
    "f_nominal.Close()\n",
    "\n",
    "f_corr = ROOT.TFile(\"$CMSSW_BASE/src/Analysis/JMEDAS/notebooks/files/rsgluon_qq_3000GeV_corr.root\")\n",
    "h_corr = f_corr.Get(\"h_dijet_mass\")\n",
    "h_corr.SetName(\"h_dijet_mass_corr\")\n",
    "h_corr.SetDirectory(0)\n",
    "f_corr.Close()\n",
    "\n",
    "f_smear = ROOT.TFile(\"$CMSSW_BASE/src/Analysis/JMEDAS/notebooks/files/rsgluon_qq_3000GeV_smear.root\")\n",
    "h_smear = f_smear.Get(\"h_dijet_mass\")\n",
    "h_smear.SetName(\"h_dijet_mass_smear\")\n",
    "h_smear.SetDirectory(0)\n",
    "f_smear.Close()\n",
    "\n",
    "f_corr_smear = ROOT.TFile(\"$CMSSW_BASE/src/Analysis/JMEDAS/notebooks/files/rsgluon_qq_3000GeV_corr_smear.root\")\n",
    "h_corr_smear = f_corr_smear.Get(\"h_dijet_mass\")\n",
    "h_corr_smear.SetName(\"h_dijet_mass_corr_smear\")\n",
    "h_corr_smear.SetDirectory(0)\n",
    "f_corr_smear.Close()\n",
    "\n",
    "rebin = 4\n",
    "\n",
    "c_dijet = ROOT.TCanvas(\"c_dijet\", \"Dijet mass (#Delta#eta<1.2)\", 800, 600)\n",
    "h_gen.SetLineColor(ROOT.kBlack)\n",
    "h_gen.Rebin(rebin)\n",
    "h_gen.Draw(\"hist\")\n",
    "\n",
    "h_nominal.SetLineColor(ROOT.kRed-1)\n",
    "h_nominal.SetLineStyle(3)\n",
    "h_nominal.Rebin(rebin)\n",
    "h_nominal.Draw(\"hist same\")\n",
    "\n",
    "h_corr.SetLineColor(ROOT.kBlue+2)\n",
    "h_corr.SetLineStyle(4)\n",
    "h_corr.Rebin(rebin)\n",
    "h_corr.Draw(\"hist same\")\n",
    "\n",
    "h_smear.SetLineColor(ROOT.kGreen-1)\n",
    "h_smear.SetLineStyle(5)\n",
    "h_smear.Rebin(rebin)\n",
    "h_smear.Draw(\"hist same\")\n",
    "\n",
    "h_corr_smear.SetLineColor(ROOT.kMagenta)\n",
    "h_corr_smear.SetLineStyle(2)\n",
    "h_corr_smear.Rebin(rebin)\n",
    "h_corr_smear.Draw(\"hist same\")\n",
    "\n",
    "l_dijet = ROOT.TLegend(0.22, 0.5, 0.4, 0.8)\n",
    "l_dijet.SetFillColor(0)\n",
    "l_dijet.SetFillStyle(0)\n",
    "l_dijet.SetBorderSize(0)\n",
    "l_dijet.AddEntry(h_gen, \"Gen jets\", \"l\")\n",
    "l_dijet.AddEntry(h_nominal, \"Uncorrected\", \"pl\")\n",
    "l_dijet.AddEntry(h_corr, \"Corrected\", \"pl\")\n",
    "l_dijet.AddEntry(h_smear, \"Smeared\", \"pl\")\n",
    "l_dijet.AddEntry(h_corr_smear, \"Corr+smear\", \"pl\")\n",
    "l_dijet.Draw()\n",
    "\n",
    "c_dijet.Draw()\n"
   ]
  },
  {
   "cell_type": "markdown",
   "metadata": {},
   "source": [
    "# Conclusion\n",
    "\n",
    "This is the end of part 1 of the jets short exercise. If there is spare time remaining, we suggest going through some of the reference material from the first exercise. Otherwise, let's move on to part 2, where we'll talk about jet substructure."
   ]
  },
  {
   "cell_type": "code",
   "execution_count": null,
   "metadata": {},
   "outputs": [],
   "source": []
  }
 ],
 "metadata": {
  "kernelspec": {
   "display_name": "hats-jec",
   "language": "python",
   "name": "hats-jec"
  },
  "language_info": {
   "codemirror_mode": {
    "name": "ipython",
    "version": 2
   },
   "file_extension": ".py",
   "mimetype": "text/x-python",
   "name": "python",
   "nbconvert_exporter": "python",
   "pygments_lexer": "ipython2",
   "version": "2.7.15+"
  }
 },
 "nbformat": 4,
 "nbformat_minor": 2
}
