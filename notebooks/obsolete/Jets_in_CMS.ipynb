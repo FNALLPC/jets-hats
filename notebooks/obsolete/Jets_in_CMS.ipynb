{
 "cells": [
  {
   "cell_type": "markdown",
   "metadata": {},
   "source": [
    "# Jet types at the LHC"
   ]
  },
  {
   "cell_type": "markdown",
   "metadata": {},
   "source": [
    "Jets are reconstructed physics objects representing the hadronization and fragmentation of quarks and gluons. CMS mostly uses anti-$k_{\\mathrm{T}}$ jets with a cone-size of $R=0.4$ to reconstruct this type of jet. We have algorithms that distinguish heavy-flavour (b or c) quarks (which are in the domain of the BTV POG), quark- vs gluon-originated jets, and jets from the main $pp$ collision versus jets formed largely from pileup particles. \n",
    "\n",
    "However, quarks and gluons are only part of the story! At the LHC, the typical collision energy is much greater than the mass scale of the known SM particles, and hence even heavier particles like top quarks, W/Z/Higgs bosons, and heavy beyond-the-Standard-Model particles can be produced with large Lorentz boosts. When these particles decay to quarks and gluons, their decay products are collimated and overlap in the detector, making them difficult to reconstruct as individual AK4 jets. \n",
    "\n",
    "Therefore, LHC analyses use jet algorithms with a large radius parameter to reconstruct these objects, which we called \"large radius\" or \"fat\" jets. CMS uses anti-$k_{\\mathrm{T}}$ jets with $R=0.8$ (AK8) as the standard large-radius jet, while ATLAS uses AK10. \n",
    "\n",
    "This topic was explained in more detailed in the slides [ADD LINK TO SLIDES]. You can also read these excellent overviews of jet substructure techniques:\n",
    "\n",
    "- [Boosted objects: a probe of beyond the Standard Model physics](http://arxiv.org/abs/1012.5412) by Abdesselam et al.\n",
    "- [Looking inside jets: an introduction to jet substructure and boosted-object phenomenology](https://arxiv.org/abs/1901.10342) by Marzani, Soyez, and Spannowsky."
   ]
  },
  {
   "cell_type": "markdown",
   "metadata": {},
   "source": [
    "## Jet types and algorithms in CMS"
   ]
  },
  {
   "cell_type": "markdown",
   "metadata": {},
   "source": [
    "The standard jet algorithms are all implemented in the CMS reconstruction software, [CMSSW](github.com/cms-sw/cmssw). However, a few algorithms with specific parameters (namely AK4, AK8, and CA15) have become standard tools in CMS; these jet types are extensively studied by the JetMET POG, and are highly recommended. These algorithms are included in the centrally produced CMS samples, at the AOD, miniAOD, and nanoAOD data tiers (note that miniAOD and nanoAOD are most commonly used for analysis, while AOD is much less common these days, and is not widely available on the grid). Other algorithms can be implemented and tested using the **JetToolbox** (discussed later in the tutorial).  \n",
    "\n",
    "In this part of the tutorial, you will learn how to access the jet collection included in the CMS datasets, do some comparisons of the different jet types, and how to create your own collections. \n"
   ]
  },
  {
   "cell_type": "markdown",
   "metadata": {},
   "source": [
    "### AOD \n",
    "\n",
    "[This twiki](https://twiki.cern.ch/twiki/bin/view/CMSPublic/SWGuideDataFormatRecoJets) summarizes the respective labels by which each jet collection can be retrieved from the event record for general AOD files. This format is currently been used for specialized studies, but for most of the analyses you can use the other formats."
   ]
  },
  {
   "cell_type": "markdown",
   "metadata": {},
   "source": [
    "### MiniAOD\n",
    "\n",
    "There are three main jet collections stored in the MiniAOD format, as described [here](https://twiki.cern.ch/twiki/bin/view/CMSPublic/WorkBookMiniAOD2017#Jets).\n",
    " * **slimmedJets**: are AK4 energy-corrected jets using charged hadron substraction (CHS) as the pileup removal algorithm. This is the default jet collection for CMS analyses for Run II. In this collection you can find the following jet algorithms, as well as other jet related quantities:\n",
    "   * b-tagging \n",
    "   * Pileup jet ID\n",
    "   * Quark/gluon likelihood info embedded.\n",
    " * **slimmedJetsPUPPI**: are AK4 energy-corrected jets using the PUPPI algorithm for pileup removal. This collection will be the default for Run III analyses.\n",
    " * **slimmedJetsAK8**: ak4 AK8 energy-corrected jets using the PUPPI algoritm for pileup removal. This has been the default collection for boosted jets in Run II. In this collection you can find the following jet algorithms, as well as other jet related quantities:\n",
    "   * Softdrop mass\n",
    "   * n-subjettiness and energy correlation variables\n",
    "   * Access to softdrop subjets\n",
    "   * Access to the associated AK8 CHS jet four momentum, including softdrop and pruned mass, and n-subjettiness."
   ]
  },
  {
   "cell_type": "markdown",
   "metadata": {},
   "source": [
    "### Examples of how to access jet collections in miniAOD samples\n",
    "\n",
    "Below are two examples of how to access jet collections from these samples. This exercise does not intend for you to modify code in order to access these collections, but rather for you to look at the code and get an idea about how you could access this information if needed."
   ]
  },
  {
   "cell_type": "markdown",
   "metadata": {},
   "source": [
    "##### In C++\n",
    "\n",
    "Please take a look at the file `$CMSSW_BASE/src/Analysis/JMEDAS/src/jmedas_miniAODAnalyzer.C` with your favourite code viewer."
   ]
  },
  {
   "cell_type": "markdown",
   "metadata": {},
   "source": [
    "You can run this code by using the python config file `$CMSSW_BASE/src/Analysis/JMEDAS/scripts/jmedas_miniAODtest.py` from your terminal. This script will only print out some information about the jets in that sample. Again, the most important part of this exercise is to get familiar with how to access jet collections from miniAOD. Take a good look at the prints this script produces to your terminal."
   ]
  },
  {
   "cell_type": "code",
   "execution_count": null,
   "metadata": {},
   "outputs": [],
   "source": [
    "cmsRun $CMSSW_BASE/src/Analysis/JMEDAS/scripts/jmedas_miniAODtest.py"
   ]
  },
  {
   "cell_type": "markdown",
   "metadata": {},
   "source": [
    "##### In Python\n",
    "\n",
    "Now take a look at the file `$CMSSW_BASE/src/Analysis/JMEDAS/scripts/jmedas_miniAODtest_purePython.py`.\n",
    "\n",
    "This code can be run with simple python in your terminal. Similar as in the case for C++, the output of this job is some information about jets. The most important part of the exercise is to get familiar with how to access jet collections using python from miniAOD."
   ]
  },
  {
   "cell_type": "code",
   "execution_count": null,
   "metadata": {},
   "outputs": [],
   "source": [
    "python $CMSSW_BASE/src/Analysis/JMEDAS/scripts/jmedas_miniAODtest_purePython.py"
   ]
  },
  {
   "cell_type": "markdown",
   "metadata": {},
   "source": [
    "### NanoAOD\n",
    "\n",
    "In nanoAOD, only AK4 CHS jets ( _Jet_ ) and AK8 PUPPI jets ( _FatJet_ ) are stored. The jets in nanoAOD are similar to those in miniAOD, but not identical (for example, the $p_{\\mathrm{T}}$ cuts might be different). A full set of variables for each jet collection can be found in this [website](https://cms-nanoaod-integration.web.cern.ch/integration/master-102X/mc102X_doc.html).\n",
    "\n",
    "NanoAOD is a \"flat tree\" format, meaning that you can access the information directly with simple ROOT, or even simple python tools (like numpy or pandas). This format is becoming more and more popular within CMS due to its simplicity and accesibility. An extremely simple example can be found below (or, if you prefer using your favorite editor, open `$CMSSW_BASE/src/Analysis/JMEDAS/scripts/jmedas_nanoAODtest.py`). Try running this now in your cmslpc session with python.\n",
    "\n",
    "*Aside*: there are several more advanced tools on the market which allow you to do more sophisticated analysis using nanoAOD format, including [RDataFrame](https://root.cern/doc/master/classROOT_1_1RDataFrame.html), [NanoAOD-tools](https://github.com/cms-nanoAOD/nanoAOD-tools), or [Coffea](https://github.com/CoffeaTeam/coffea). We excourage you to look at them and use the one you like the most."
   ]
  },
  {
   "cell_type": "code",
   "execution_count": null,
   "metadata": {},
   "outputs": [],
   "source": [
    "from ROOT import *\n",
    "\n",
    "inputFile = TFile.Open('root://xrootd-cms.infn.it//store/mc/RunIIAutumn18NanoAODv4/QCD_HT1000to1500_TuneCP5_13TeV-madgraphMLM-pythia8/NANOAODSIM/Nano14Dec2018_102X_upgrade2018_realistic_v16-v1/110000/C23F77AA-3909-C74E-ADCD-8266FF68AB5D.root' )\n",
    "events = inputFile.Get('Events')\n",
    "\n",
    "for iev in xrange(events.GetEntries()):\n",
    "    events.GetEntry(iev)\n",
    "    if iev >= 10: break\n",
    "\n",
    "    print \"\\nEvent %d: run %6d, lumi %4d, event %12d\" % (iev, events.run, events.luminosityBlock, events.event )\n",
    "\n",
    "    # AK4 CHS Jets\n",
    "    for ijet in range(events.nJet):\n",
    "        if events.Jet_pt < 20: continue\n",
    "        print 'AK4 jet '+ str(ijet) + ': pt ' + str(events.Jet_pt[ijet]) + ', eta ' + str(events.Jet_eta[ijet]) + ', mass ' + str(events.Jet_mass[ijet]) + ',phi ' + str(events.Jet_phi[ijet]) + ', puId ' + str(events.Jet_puId[ijet]) + ', deepJet btag disc. ' + str(events.Jet_btagDeepB[ijet])\n",
    "\n",
    "    # AK8 PUPPI Jets\n",
    "    for ijet in range(events.nFatJet):\n",
    "        if events.FatJet_pt < 20: continue\n",
    "        print 'AK8 jet '+ str(ijet) + ': pt ' + str(events.FatJet_pt[ijet]) + ', eta ' + str(events.FatJet_eta[ijet]) + ', mass ' + str(events.FatJet_mass[ijet]) + ',phi ' + str(events.FatJet_phi[ijet]) + ', deepAK8 W tag disc. ' + str(events.FatJet_deepTag_WvsQCD[ijet])+ ', deepAK8 top tag disc. ' + str(events.FatJet_deepTag_TvsQCD[ijet])\n"
   ]
  },
  {
   "cell_type": "markdown",
   "metadata": {},
   "source": [
    "### jetToolbox *For reading only*\n",
    "#### The example commands given in this part do not work at the moment, so please just read the below descriptions and remember that maybe in the future jetToolBox can be useful to you!\n",
    "\n",
    "Although JME generally recommends to use AK4 CHS and AK8 PUPPI jets for Run II analyses (moving fully to AK4 PUPPI jets for Run III), there are cases where certain analysis will need to use something else. Similar for the standard algorithms stored in mini/nanoAOD samples. For users who want to test a different jet collection or algorithms, JetMET had developed a user-friendly tool to compute them: [JetToolbox](https://twiki.cern.ch/twiki/bin/view/CMS/JetToolbox).\n",
    "\n",
    "The JetToolbox is *not* part of CMSSW because JME wants to have the freedom to incorporate and test as many tools as possible without these algorithms being part of any central samples or code. That is the reason that, in real life, you would need to clone the [JetToolbox repository](https://github.com/cms-jet/JetToolbox) inside your CMSSW src folder like this:\n",
    "~~~\n",
    "cd $CMSSW_BASE/src/\n",
    "git clone git@github.com:cms-jet/JetToolbox.git JMEAnalysis/JetToolbox -b jetToolbox_102X_v3\n",
    "scram b\n",
    "~~~\n",
    "\n",
    "In this tutorial, this step was done for you in the initial setup. _You do not need to do it now_. You can find more information about how to set up the JetToolbox in the [README.md](https://github.com/cms-jet/JetToolbox) of the github repository or in the [twiki](https://twiki.cern.ch/twiki/bin/view/CMS/JetToolbox)."
   ]
  },
  {
   "cell_type": "markdown",
   "metadata": {},
   "source": [
    "For instance, imagine that you want to create a new jet collection using the Cambridge-Aachen clustering algorithm with cone-size 1.2, using PUPPI as pileup removal algorithm, some selection, including the pruning and softdrop grooming algorithms, and use different parameters for the softdrop algoritm. Then in your python config file you need to include something like this:\n",
    "\n",
    "```\n",
    "from Analysis.JetToolbox.jetToolbox_cff import *                 # Load the jetTOolbox\n",
    "\n",
    "jetToolbox( process, 'ca10', 'jetSequence', 'out',               # cone size and basic setup\n",
    "  Cut=\"pt>170 && abs(eta)<2.5\",                                  # selection\n",
    "  dataTier=\"miniAOD\",                                            # input file: miniAOD or nanoAOD?\n",
    "  PUMethod='PUPPI',                                              # PUPPI/CHS/SK/PF\n",
    "  addPruning=True, addSoftDrop=True , betaCut = 1.0,             # add basic grooming\n",
    "  JETCorrPayload = 'AK8PFchs', JETCorrLevels = ['L2Relative', 'L3Absolute']   # for jet corrections\n",
    ")\n",
    "```\n",
    "\n",
    "A full list of algorithms and parameters can be found in the [JetToolbox twiki](https://twiki.cern.ch/twiki/bin/viewauth/CMS/JetToolbox#Arguments). Take a look at the more complete example in `$CMSSW_BASE/src/Analysis/JMEDAS/scripts/ClusterWithToolboxAndMakeHistos.py`."
   ]
  },
  {
   "cell_type": "markdown",
   "metadata": {},
   "source": [
    "\n",
    "Now you can run the script in your terminal, or in the next cell to create a bunch of new jet collections:"
   ]
  },
  {
   "cell_type": "code",
   "execution_count": null,
   "metadata": {},
   "outputs": [],
   "source": [
    "cmsRun $CMSSW_BASE/src/Analysis/JMEDAS/scripts/ClusterWithToolboxAndMakeHistos.py"
   ]
  },
  {
   "cell_type": "markdown",
   "metadata": {},
   "source": [
    "Running the jetToolbox as explained above does create a miniAOD-like output. To know the name of the newly create jet collection, jetToolbox prints out some information like this:\n",
    "```\n",
    "|---- jetToolBox: JETTOOLBOX RUNNING ON MiniAOD FOR AK8 JETS USING Puppi\n",
    "|---- jetToolBox: Applying these corrections: ('AK8PFPuppi', ['L2Relative', 'L3Absolute'], 'None')\n",
    "|---- jetToolBox: Creating packedPatJetsAK8PFPuppiSoftDrop collection with SoftDrop subjets.\n",
    "|---- jetToolBox: Running ak8PFJetsPuppiSoftDropMass, selectedPatJetsAK8PFPuppiSoftDropPacked:SubJets, ak8PFJetsPuppiPrunedMass, ak8PFJetsPuppiTrimmedMass, ak8PFJetsPuppiFilteredMass, NjettinessAK8Puppi, nb1AK8PuppiSoftDrop.\n",
    "|---- jetToolBox: Creating selectedPatJetsAK8PFPuppi collection.\n",
    "```\n",
    "\n",
    "The name of the new jet collection in this case will be `selectedPatJetsAK8PFPuppi`. To access it, you can follow the same procedure you did for the `slimmedJets` or `slimmedAK8Jets` in the miniAOD example above."
   ]
  },
  {
   "cell_type": "markdown",
   "metadata": {},
   "source": [
    "Because the nanoAOD format is becoming very popular in CMS, there is a \"beta\" version of the jetToolbox which will create nanoAOD-like samples including new jet collections. For example, to create a nanoAOD like sample, you need to include a file like the one below in your folder `$CMSSW_BASE/src/Analysis/JMEDAS/python/`:\n",
    "\n",
    "<details>\n",
    "    <summary><font color='blue'>SHOW CODE</font></summary>\n",
    "<p>\n",
    "\n",
    "```python\n",
    "import FWCore.ParameterSet.Config as cms\n",
    "from  PhysicsTools.NanoAOD.common_cff import *\n",
    "### NanoAOD v5 (for 2016,2017,2018), for different recipe please modify accordingly\n",
    "from Configuration.Eras.Modifier_run2_nanoAOD_94X2016_cff import run2_nanoAOD_94X2016\n",
    "from Configuration.Eras.Modifier_run2_nanoAOD_94XMiniAODv2_cff import run2_nanoAOD_94XMiniAODv2\n",
    "from Configuration.Eras.Modifier_run2_nanoAOD_102Xv1_cff import run2_nanoAOD_102Xv1\n",
    "from JMEAnalysis.JetToolbox.jetToolbox_cff import jetToolbox\n",
    "\n",
    "# ---------------------------------------------------------\n",
    "# This is the part the user should modify\n",
    "def setupCustomizedJetToolbox(process):\n",
    "\n",
    "    #### AK4 PUPPI jets\n",
    "\n",
    "    ak4btagdiscriminators = [\n",
    "            'pfDeepCSVJetTags:probb',\n",
    "            'pfDeepCSVJetTags:probbb',\n",
    "            'pfDeepCSVJetTags:probc',\n",
    "            'pfDeepCSVJetTags:probudsg',\n",
    "    ]\n",
    "    ak4btaginfos = [ 'pfDeepCSVTagInfos' ] \n",
    "\n",
    "    jetToolbox(process, 'ak4', 'dummyseq', 'noOutput',\n",
    "               dataTier='nanoAOD',\n",
    "               PUMethod='Puppi', JETCorrPayload='AK4PFPuppi',\n",
    "               #addQGTagger=True,\n",
    "               runOnMC=True,\n",
    "               Cut='pt > 15.0 && abs(eta) < 2.4',\n",
    "               bTagDiscriminators=ak4btagdiscriminators,\n",
    "               bTagInfos=ak4btaginfos,\n",
    "               verbosity=4\n",
    "               )\n",
    "\n",
    "    #### AK8 PUPPI jets\n",
    "    ak8btagdiscriminators = [\n",
    "                        'pfBoostedDoubleSecondaryVertexAK8BJetTags',\n",
    "                        'pfMassIndependentDeepDoubleBvLJetTags:probQCD',\n",
    "                        'pfMassIndependentDeepDoubleBvLJetTags:probHbb',\n",
    "                        'pfMassIndependentDeepDoubleCvLJetTags:probQCD',\n",
    "                        'pfMassIndependentDeepDoubleCvLJetTags:probHcc',\n",
    "                        'pfMassIndependentDeepDoubleCvBJetTags:probHbb',\n",
    "                        'pfMassIndependentDeepDoubleCvBJetTags:probHcc',\n",
    "            ]\n",
    "\n",
    "    jetToolbox(process, 'ak8', 'adummyseq', 'noOutput',\n",
    "               dataTier='nanoAOD',\n",
    "               PUMethod='Puppi', JETCorrPayload='AK8PFPuppi',\n",
    "               runOnMC=True,\n",
    "               Cut='pt > 170.0 && abs(eta) < 2.4',\n",
    "               bTagDiscriminators=ak8btagdiscriminators,\n",
    "               addSoftDrop=True,\n",
    "               addSoftDropSubjets=True,\n",
    "               addPruning=True,\n",
    "               addNsub=True,\n",
    "               addEnergyCorrFunc=True,\n",
    "               )\n",
    "    return process\n",
    "\n",
    "# ---------------------------------------------------------\n",
    "\n",
    "def nanoJTB_customizeMC(process):\n",
    "    run2_nanoAOD_94X2016.toModify(process, setupCustomizedJetToolbox)\n",
    "    run2_nanoAOD_94XMiniAODv2.toModify(process, setupCustomizedJetToolbox)\n",
    "    run2_nanoAOD_102Xv1.toModify(process, setupCustomizedJetToolbox)\n",
    "    process.NANOAODSIMoutput.fakeNameForCrab = cms.untracked.bool(True)  # needed for crab publication\n",
    "    return process\n",
    "\n",
    "```\n",
    "            \n",
    "</p>\n",
    "</details>\n",
    "\n",
    "This file is already included in this tutorial. _Do not try to copy this file in your working directory._\n",
    "\n",
    "Then to create a nanoAOD-like file, run the next line in your terminal."
   ]
  },
  {
   "cell_type": "code",
   "execution_count": null,
   "metadata": {},
   "outputs": [],
   "source": [
    "cmsDriver.py nanoAOD_jetToolbox_cff -s NANO --mc --eventcontent NANOAODSIM --datatier NANOAODSIM -n 100  --conditions 102X_upgrade2018_realistic_v20 --era Run2_2018,run2_nanoAOD_102Xv1 --customise_commands=\"process.add_(cms.Service('InitRootHandlers', EnableIMT = cms.untracked.bool(False)))\" --customise Analysis/JMEDAS/nanoAOD_jetToolbox_cff.nanoJTB_customizeMC --filein /store/mc/RunIIAutumn18MiniAOD/QCD_HT1000to1500_TuneCP5_13TeV-madgraphMLM-pythia8/MINIAODSIM/102X_upgrade2018_realistic_v15-v1/210000/DA20DC21-E781-C540-9FCD-7BCF2144CA4E.root --fileout file:jetToolbox_nano_mc.root"
   ]
  },
  {
   "cell_type": "markdown",
   "metadata": {},
   "source": [
    "The output file in this case, called `jetToolbox_nano_mc.root` will be a nanoAOD file with all the content from the central nanoAOD sample but including an extra collection which name starts with `selectedPatJetsAK8PFPuppi` (Or the name indicated in the jetToolbox printouts). "
   ]
  },
  {
   "cell_type": "code",
   "execution_count": null,
   "metadata": {},
   "outputs": [],
   "source": []
  }
 ],
 "metadata": {
  "kernelspec": {
   "display_name": "hats-jec",
   "language": "python",
   "name": "hats-jec"
  },
  "language_info": {
   "codemirror_mode": {
    "name": "ipython",
    "version": 2
   },
   "file_extension": ".py",
   "mimetype": "text/x-python",
   "name": "python",
   "nbconvert_exporter": "python",
   "pygments_lexer": "ipython2",
   "version": "2.7.15+"
  }
 },
 "nbformat": 4,
 "nbformat_minor": 2
}
