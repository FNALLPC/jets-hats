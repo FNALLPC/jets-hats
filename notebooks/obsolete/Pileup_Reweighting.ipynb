{
 "cells": [
  {
   "cell_type": "markdown",
   "metadata": {},
   "source": [
    "# Pileup Reweighting \n",
    "Here we are going to produce a file containing the weights used for pileup reweighting. Please note that this process can take quite a while. Execute the following command in your ssh session and be patient!\n"
   ]
  },
  {
   "cell_type": "code",
   "execution_count": null,
   "metadata": {},
   "outputs": [],
   "source": [
    "python $CMSSW_BASE/src/Analysis/JMEDAS/python/pileupCorr.py -j $CMSSW_BASE/src/Analysis/JMEDAS/data/Cert_271036-284044_13TeV_PromptReco_Collisions16_JSON_NoL1T.txt -l $CMSSW_BASE/src/Analysis/JMEDAS/data/pileup_latest.txt -b 100"
   ]
  },
  {
   "cell_type": "markdown",
   "metadata": {},
   "source": [
    "In the meantime, the first question is asked here, at the beginning of this section, in order to give you a chance to think about the answers before you produce the plots. Ask yourself what pileup reweighting is doing. Try to answer the questions and do the exercise before looking at the answer."
   ]
  },
  {
   "cell_type": "markdown",
   "metadata": {},
   "source": [
    "<font color='red'>Question 1: How large do you expect the pileup weights to be?</font>\n",
    "\n",
    "<font color='red'>Question 2: In what unit will the x-axis be plotted? Another way of asking this is what pileup variable can be measured in both data and MC and is fairly robust?</font><details>\n",
    "<summary><font color='blue'>Show answer...</font></summary>\n",
    "The x-axis is plotted as a function of $\\mu$ as this is a true measurement of pileup (additional interactions) and not just some variable which is correlated with pileup. Other options might have been $N_{PV}$, which has an efficiency which is less than 100%, and $\\rho$, which assumes that the pileup energy density is uniform. We also get different values of $\\rho$ if we measure it for different regions in $\\eta$ (i.e. $|\\eta|<3$ or $|\\eta|<5$).\n",
    "\n",
    "<img src=\"../files/Zmumu_npv.png\" alt=\"Zmumu_npv\" width=\"400px\" style=\"float: left;\" />\n",
    "<img src=\"../files/Zmumu_rho.png\" alt=\"Zmumu_rho\" width=\"400px\" style=\"float: right;\" />\n",
    "<img src=\"../files/Zmumu_npv_nputruth.png\" alt=\"Zmumu_npv_nputruth\" width=\"400px\" style=\"float: left;\" />\n",
    "<img src=\"../files/Zmumu_rho_nputruth.png\" alt=\"Zmumu_rho_nputruth\" width=\"400px\" style=\"float: right;\" />\n",
    "</details>"
   ]
  },
  {
   "cell_type": "markdown",
   "metadata": {},
   "source": [
    "While you're waiting for pileupCorr.py to finish, you might want to take a look at the input files to see what information they contain and how they are formatted."
   ]
  },
  {
   "cell_type": "markdown",
   "metadata": {},
   "source": [
    "Once the process is finished, execute the simple plotting script below with 'python pileup_reweighting.py' and open the produced pdf."
   ]
  },
  {
   "cell_type": "code",
   "execution_count": null,
   "metadata": {},
   "outputs": [],
   "source": [
    "# Loads the ROOT environment and style\n",
    "import ROOT as r\n",
    "from Analysis.JMEDAS.pileupCorr import *\n",
    "\n",
    "inf = r.TFile(\"PileupHistograms.root\",\"READ\")\n",
    "c = MakeCanvas(filename=\"PileupHistograms.root\")\n",
    "c.Draw()",
    "c.Print('pileup_reweighting.pdf','pdf')"
   ]
  },
  {
   "cell_type": "markdown",
   "metadata": {},
   "source": [
    "<font color='red'>Question 3: Did the weights look as you expected them to?</font>\n",
    "\n",
    "<font color='red'>Question 4: Why do the green and red histograms end arount $\\mu\\approx38$?</font>\n",
    "\n",
    "<font color='red'>Question 5: What is the limiting factor on the black histogram? Why doesn't it continue to higher $\\mu$ values?</font>\n",
    "\n",
    "<font color='red'>Question 6: Did the method close? In other words, can we derive weights from the pileup distribution in a given MC sample, apply those weights to the same MC sample, and get back a distribution that looks just like data?</font>"
   ]
  },
  {
   "cell_type": "markdown",
   "metadata": {},
   "source": [
    "Take a look at the MakeCanvas function in the pileupCorr module to see how this plot is made. This will help you to understand how to apply the pileup weights in your own analysis. You can also take a look at the other modules in the pileupCorr.py code to see how the pileup weights, and their associated systematics, are created."
   ]
  },
  {
   "cell_type": "markdown",
   "metadata": {},
   "source": [
    "More information about pileup reweighting and the centrally available utilities can be found [here](https://twiki.cern.ch/twiki/bin/viewauth/CMS/PileupJSONFileforData)."
   ]
  },
  {
   "cell_type": "code",
   "execution_count": null,
   "metadata": {},
   "outputs": [],
   "source": []
  }
 ],
 "metadata": {
  "kernelspec": {
   "display_name": "hats-jec",
   "language": "python",
   "name": "hats-jec"
  },
  "language_info": {
   "codemirror_mode": {
    "name": "ipython",
    "version": 2
   },
   "file_extension": ".py",
   "mimetype": "text/x-python",
   "name": "python",
   "nbconvert_exporter": "python",
   "pygments_lexer": "ipython2",
   "version": "2.7.15+"
  }
 },
 "nbformat": 4,
 "nbformat_minor": 2
}
